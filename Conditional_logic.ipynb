{
  "nbformat": 4,
  "nbformat_minor": 0,
  "metadata": {
    "colab": {
      "provenance": [],
      "authorship_tag": "ABX9TyMyPScOfFFQ2JVGm2ZsY7Gf",
      "include_colab_link": true
    },
    "kernelspec": {
      "name": "python3",
      "display_name": "Python 3"
    },
    "language_info": {
      "name": "python"
    }
  },
  "cells": [
    {
      "cell_type": "markdown",
      "metadata": {
        "id": "view-in-github",
        "colab_type": "text"
      },
      "source": [
        "<a href=\"https://colab.research.google.com/github/Shruti38-Learner/Python/blob/main/Conditional_logic.ipynb\" target=\"_parent\"><img src=\"https://colab.research.google.com/assets/colab-badge.svg\" alt=\"Open In Colab\"/></a>"
      ]
    },
    {
      "cell_type": "code",
      "execution_count": null,
      "metadata": {
        "id": "UD-TDam1Xazh"
      },
      "outputs": [],
      "source": [
        "is_old=True"
      ]
    },
    {
      "cell_type": "code",
      "source": [
        "is_licensed=False"
      ],
      "metadata": {
        "id": "HnB51ddfelUf"
      },
      "execution_count": null,
      "outputs": []
    },
    {
      "cell_type": "code",
      "source": [
        "#if condition:\n",
        "     #actions"
      ],
      "metadata": {
        "id": "PeOU0gXaepzD"
      },
      "execution_count": null,
      "outputs": []
    },
    {
      "cell_type": "code",
      "source": [
        "if is_old:\n",
        "  print(\"you are old enough to drive\")"
      ],
      "metadata": {
        "colab": {
          "base_uri": "https://localhost:8080/"
        },
        "id": "xM94wpmDeuz3",
        "outputId": "2b4123bb-e5a7-4b73-e48a-5437075fd4ff"
      },
      "execution_count": null,
      "outputs": [
        {
          "output_type": "stream",
          "name": "stdout",
          "text": [
            "you are old enough to drive\n"
          ]
        }
      ]
    },
    {
      "cell_type": "code",
      "source": [
        "if is_licensed:\n",
        "  print(\"you are not old enough to drive\") # no result will be display"
      ],
      "metadata": {
        "id": "D95tDmDFe0gf"
      },
      "execution_count": null,
      "outputs": []
    },
    {
      "cell_type": "code",
      "source": [
        "score=55\n",
        "\n",
        "if score>=90:\n",
        "  print(\"A\")\n",
        "elif score>=80 and score<90:\n",
        "  print(\"B\")\n",
        "elif score>=70 and score<80:\n",
        "  print(\"C\")\n",
        "elif score>=60 and score<70:\n",
        "  print(\"D\")\n",
        "elif score<60:\n",
        "  print(\"E\")"
      ],
      "metadata": {
        "colab": {
          "base_uri": "https://localhost:8080/"
        },
        "id": "lvVTp--ie57G",
        "outputId": "1050f768-d2bb-42ad-82bd-ba07cb6484b7"
      },
      "execution_count": null,
      "outputs": [
        {
          "output_type": "stream",
          "name": "stdout",
          "text": [
            "E\n"
          ]
        }
      ]
    },
    {
      "cell_type": "code",
      "source": [
        "total_purchase = 120  # Total amount in dollars\n",
        "\n",
        "if total_purchase >= 100:\n",
        "    print(\"You get a 20% discount!\")\n",
        "elif total_purchase >= 50:\n",
        "    print(\"You get a 10% discount!\")\n",
        "else:\n",
        "    print(\"You get no discount.\")\n"
      ],
      "metadata": {
        "colab": {
          "base_uri": "https://localhost:8080/"
        },
        "id": "I-nVMN3Fikxo",
        "outputId": "ae918417-b9b0-4da8-fda8-90cb89e35aa3"
      },
      "execution_count": null,
      "outputs": [
        {
          "output_type": "stream",
          "name": "stdout",
          "text": [
            "You get a 20% discount!\n"
          ]
        }
      ]
    },
    {
      "cell_type": "code",
      "source": [
        "'''Value Type\tTruthy Examples\tFalsy Examples\n",
        "Numbers\t1, 3.14, -1\t 0, 0.0\n",
        "Strings\t\"hello\", \" \" (space)\t\"\" (empty string)\n",
        "Lists\t[1, 2, 3]\t[] (empty list)\n",
        "Tuples\t(1, 2)\t() (empty tuple)\n",
        "Dictionaries\t{\"key\": \"value\"}\t{} (empty dict)\n",
        "Sets\t{1, 2}\tset() (empty set)\n",
        "Special Values\tTrue, non-empty objects\tNone, False'''"
      ],
      "metadata": {
        "colab": {
          "base_uri": "https://localhost:8080/",
          "height": 71
        },
        "id": "9IqBVApVi7QH",
        "outputId": "349fc8e6-c9f5-4bba-ac73-526d8fc74744"
      },
      "execution_count": null,
      "outputs": [
        {
          "output_type": "execute_result",
          "data": {
            "text/plain": [
              "'Value Type\\tTruthy Examples\\tFalsy Examples\\nNumbers\\t1, 3.14, -1\\t0, 0.0\\nStrings\\t\"hello\", \" \" (space)\\t\"\" (empty string)\\nLists\\t[1, 2, 3]\\t[] (empty list)\\nTuples\\t(1, 2)\\t() (empty tuple)\\nDictionaries\\t{\"key\": \"value\"}\\t{} (empty dict)\\nSets\\t{1, 2}\\tset() (empty set)\\nSpecial Values\\tTrue, non-empty objects\\tNone, False'"
            ],
            "application/vnd.google.colaboratory.intrinsic+json": {
              "type": "string"
            }
          },
          "metadata": {},
          "execution_count": 13
        }
      ]
    },
    {
      "cell_type": "code",
      "source": [
        "#value_if_true if condition else value_if_false\n"
      ],
      "metadata": {
        "id": "xO6frg7DmeCC"
      },
      "execution_count": null,
      "outputs": []
    },
    {
      "cell_type": "code",
      "source": [
        "age=18\n",
        "status=\"Adult\" if age>18 else \"Not adult\""
      ],
      "metadata": {
        "id": "VNGmuMTgmpOh"
      },
      "execution_count": null,
      "outputs": []
    },
    {
      "cell_type": "code",
      "source": [
        "age=50\n",
        "\"too old\" if age>50 else \"not old\""
      ],
      "metadata": {
        "colab": {
          "base_uri": "https://localhost:8080/",
          "height": 35
        },
        "id": "RWVPDIftmzc0",
        "outputId": "716423ae-5163-40ab-c030-d66d858c7703"
      },
      "execution_count": null,
      "outputs": [
        {
          "output_type": "execute_result",
          "data": {
            "text/plain": [
              "'not old'"
            ],
            "application/vnd.google.colaboratory.intrinsic+json": {
              "type": "string"
            }
          },
          "metadata": {},
          "execution_count": 17
        }
      ]
    },
    {
      "cell_type": "code",
      "source": [
        "x = 10\n",
        "result = \"Positive\" if x > 0 else \"Zero\" if x == 0 else \"Negative\"\n",
        "print(result)  # Output: Positive\n"
      ],
      "metadata": {
        "colab": {
          "base_uri": "https://localhost:8080/"
        },
        "id": "5X3WQt5qnDq2",
        "outputId": "0b5f13f2-c29a-453c-8ea8-48d473e76b58"
      },
      "execution_count": null,
      "outputs": [
        {
          "output_type": "stream",
          "name": "stdout",
          "text": [
            "Positive\n"
          ]
        }
      ]
    },
    {
      "cell_type": "code",
      "source": [
        "is_logged_in = True\n",
        "message = \"Welcome!\" if is_logged_in else \"Please log in.\"\n",
        "print(message)  # Output: Welcome!\n"
      ],
      "metadata": {
        "colab": {
          "base_uri": "https://localhost:8080/"
        },
        "id": "GqJgwenCnNz6",
        "outputId": "e676481c-ec52-41a9-db3a-e14af55dd220"
      },
      "execution_count": null,
      "outputs": [
        {
          "output_type": "stream",
          "name": "stdout",
          "text": [
            "Welcome!\n"
          ]
        }
      ]
    },
    {
      "cell_type": "code",
      "source": [
        "import this"
      ],
      "metadata": {
        "colab": {
          "base_uri": "https://localhost:8080/"
        },
        "id": "Qf0KEXQ0nRgS",
        "outputId": "b4e2d65e-e618-4576-fedb-1b3a29f7d2ae"
      },
      "execution_count": null,
      "outputs": [
        {
          "output_type": "stream",
          "name": "stdout",
          "text": [
            "The Zen of Python, by Tim Peters\n",
            "\n",
            "Beautiful is better than ugly.\n",
            "Explicit is better than implicit.\n",
            "Simple is better than complex.\n",
            "Complex is better than complicated.\n",
            "Flat is better than nested.\n",
            "Sparse is better than dense.\n",
            "Readability counts.\n",
            "Special cases aren't special enough to break the rules.\n",
            "Although practicality beats purity.\n",
            "Errors should never pass silently.\n",
            "Unless explicitly silenced.\n",
            "In the face of ambiguity, refuse the temptation to guess.\n",
            "There should be one-- and preferably only one --obvious way to do it.\n",
            "Although that way may not be obvious at first unless you're Dutch.\n",
            "Now is better than never.\n",
            "Although never is often better than *right* now.\n",
            "If the implementation is hard to explain, it's a bad idea.\n",
            "If the implementation is easy to explain, it may be a good idea.\n",
            "Namespaces are one honking great idea -- let's do more of those!\n"
          ]
        }
      ]
    },
    {
      "cell_type": "markdown",
      "source": [
        "**Short Circulating**"
      ],
      "metadata": {
        "id": "GgsStqaOpZ78"
      }
    },
    {
      "cell_type": "code",
      "source": [
        "'''The and operator evaluates to True only if all conditions are True.\n",
        "It stops at the first falsy value, because the entire expression cannot be True'''"
      ],
      "metadata": {
        "colab": {
          "base_uri": "https://localhost:8080/",
          "height": 35
        },
        "id": "aAiubjB0o2vO",
        "outputId": "132e8d47-7cf6-4dfa-f08e-368c8041d3d5"
      },
      "execution_count": null,
      "outputs": [
        {
          "output_type": "execute_result",
          "data": {
            "text/plain": [
              "'The and operator evaluates to True only if all conditions are True.\\nIt stops at the first falsy value, because the entire expression cannot be True'"
            ],
            "application/vnd.google.colaboratory.intrinsic+json": {
              "type": "string"
            }
          },
          "metadata": {},
          "execution_count": 21
        }
      ]
    },
    {
      "cell_type": "code",
      "source": [
        "string1=\"Hello\""
      ],
      "metadata": {
        "id": "Q-DxACPepK9V"
      },
      "execution_count": 1,
      "outputs": []
    },
    {
      "cell_type": "code",
      "source": [
        "if type(string1)==str and len(string1)>3:\n",
        "  print(\"Great Message\")"
      ],
      "metadata": {
        "colab": {
          "base_uri": "https://localhost:8080/"
        },
        "id": "TqfijcvtW67H",
        "outputId": "621a5118-5333-4792-e072-be76998ecc63"
      },
      "execution_count": 3,
      "outputs": [
        {
          "output_type": "stream",
          "name": "stdout",
          "text": [
            "Great Message\n"
          ]
        }
      ]
    },
    {
      "cell_type": "code",
      "source": [
        "#is vs=="
      ],
      "metadata": {
        "id": "lk6eog3qXIwq"
      },
      "execution_count": 4,
      "outputs": []
    },
    {
      "cell_type": "code",
      "source": [
        "print(True==1)"
      ],
      "metadata": {
        "colab": {
          "base_uri": "https://localhost:8080/"
        },
        "id": "u_MzMiboffgS",
        "outputId": "6b579db1-ee3e-485a-85e9-b1a5a6d95c30"
      },
      "execution_count": 5,
      "outputs": [
        {
          "output_type": "stream",
          "name": "stdout",
          "text": [
            "True\n"
          ]
        }
      ]
    },
    {
      "cell_type": "code",
      "source": [
        "print(''==1)"
      ],
      "metadata": {
        "colab": {
          "base_uri": "https://localhost:8080/"
        },
        "id": "iayG_M_Tfhi1",
        "outputId": "6dcfd63c-9679-4d7e-a44d-83c3c11af1f4"
      },
      "execution_count": 8,
      "outputs": [
        {
          "output_type": "stream",
          "name": "stdout",
          "text": [
            "False\n"
          ]
        }
      ]
    },
    {
      "cell_type": "code",
      "source": [
        "print(10==1)"
      ],
      "metadata": {
        "colab": {
          "base_uri": "https://localhost:8080/"
        },
        "id": "xu7GUc1lfmqg",
        "outputId": "c33e050d-6a69-40c1-d091-1293a355402b"
      },
      "execution_count": 9,
      "outputs": [
        {
          "output_type": "stream",
          "name": "stdout",
          "text": [
            "False\n"
          ]
        }
      ]
    },
    {
      "cell_type": "code",
      "source": [
        "print([]==1)"
      ],
      "metadata": {
        "colab": {
          "base_uri": "https://localhost:8080/"
        },
        "id": "hW9Ny-zpfr-v",
        "outputId": "f13f0b83-c3b0-425c-fd06-8b2dd5d9aa8c"
      },
      "execution_count": 10,
      "outputs": [
        {
          "output_type": "stream",
          "name": "stdout",
          "text": [
            "False\n"
          ]
        }
      ]
    },
    {
      "cell_type": "code",
      "source": [
        "print(10==10.0)"
      ],
      "metadata": {
        "colab": {
          "base_uri": "https://localhost:8080/"
        },
        "id": "cgFIJ1-xfvEC",
        "outputId": "307bba13-c803-4eb9-dbc1-6717916a1ad6"
      },
      "execution_count": 11,
      "outputs": [
        {
          "output_type": "stream",
          "name": "stdout",
          "text": [
            "True\n"
          ]
        }
      ]
    },
    {
      "cell_type": "code",
      "source": [
        "print([1,2]==[1,2])"
      ],
      "metadata": {
        "colab": {
          "base_uri": "https://localhost:8080/"
        },
        "id": "yc4YyR5NfwRK",
        "outputId": "5004397b-7f6a-4929-9f58-2fcb476afbc6"
      },
      "execution_count": 13,
      "outputs": [
        {
          "output_type": "stream",
          "name": "stdout",
          "text": [
            "True\n"
          ]
        }
      ]
    },
    {
      "cell_type": "code",
      "source": [
        "print(True is 1) #is check the memory check the location"
      ],
      "metadata": {
        "colab": {
          "base_uri": "https://localhost:8080/"
        },
        "id": "LsrtY8cHf1R0",
        "outputId": "e18e4f27-9bff-44c4-a9b2-ba0ae567738c"
      },
      "execution_count": 14,
      "outputs": [
        {
          "output_type": "stream",
          "name": "stdout",
          "text": [
            "False\n"
          ]
        },
        {
          "output_type": "stream",
          "name": "stderr",
          "text": [
            "<>:1: SyntaxWarning: \"is\" with a literal. Did you mean \"==\"?\n",
            "<>:1: SyntaxWarning: \"is\" with a literal. Did you mean \"==\"?\n",
            "<ipython-input-14-6808e9ec129b>:1: SyntaxWarning: \"is\" with a literal. Did you mean \"==\"?\n",
            "  print(True is 1)\n"
          ]
        }
      ]
    },
    {
      "cell_type": "code",
      "source": [
        "a=[1,2]"
      ],
      "metadata": {
        "id": "8jgwnkKxf7SV"
      },
      "execution_count": 15,
      "outputs": []
    },
    {
      "cell_type": "code",
      "source": [
        "b=[1,2]"
      ],
      "metadata": {
        "id": "9JmGiyUFgHhU"
      },
      "execution_count": 16,
      "outputs": []
    },
    {
      "cell_type": "code",
      "source": [
        "a is b"
      ],
      "metadata": {
        "colab": {
          "base_uri": "https://localhost:8080/"
        },
        "id": "7WheW76ugIlY",
        "outputId": "e21caa9b-b9d5-4529-8caa-e53a85be00b0"
      },
      "execution_count": 17,
      "outputs": [
        {
          "output_type": "execute_result",
          "data": {
            "text/plain": [
              "False"
            ]
          },
          "metadata": {},
          "execution_count": 17
        }
      ]
    },
    {
      "cell_type": "code",
      "source": [
        "print(id(a))# memory id"
      ],
      "metadata": {
        "colab": {
          "base_uri": "https://localhost:8080/"
        },
        "id": "5wJDA1YjgJGb",
        "outputId": "597b38ba-353e-4967-b5ef-d422e959915a"
      },
      "execution_count": 18,
      "outputs": [
        {
          "output_type": "stream",
          "name": "stdout",
          "text": [
            "136046010067968\n"
          ]
        }
      ]
    },
    {
      "cell_type": "code",
      "source": [
        "print(id(b))"
      ],
      "metadata": {
        "colab": {
          "base_uri": "https://localhost:8080/"
        },
        "id": "yJ9I-4QegMaA",
        "outputId": "aad63187-059f-4b88-9a29-e3522f8684bc"
      },
      "execution_count": 19,
      "outputs": [
        {
          "output_type": "stream",
          "name": "stdout",
          "text": [
            "136046010070656\n"
          ]
        }
      ]
    },
    {
      "cell_type": "code",
      "source": [],
      "metadata": {
        "id": "Hbv5eNAygNpU"
      },
      "execution_count": null,
      "outputs": []
    }
  ]
}