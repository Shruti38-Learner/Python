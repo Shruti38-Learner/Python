{
 "cells": [
  {
   "cell_type": "code",
   "execution_count": 3,
   "metadata": {},
   "outputs": [],
   "source": [
    "#A decorator is just a way to add something extra to a function. It's like putting a topping on your ice cream — the ice cream stays the same, but you get an extra layer of flavor."
   ]
  },
  {
   "cell_type": "code",
   "execution_count": 1,
   "metadata": {},
   "outputs": [],
   "source": [
    "def my_decorator(func):\n",
    "    def wrapper():\n",
    "        print(\"Something happens before the function runs.\")\n",
    "        func()\n",
    "        print(\"Something happens after the function runs.\")\n",
    "    return wrapper\n",
    "\n"
   ]
  },
  {
   "cell_type": "code",
   "execution_count": 2,
   "metadata": {},
   "outputs": [
    {
     "name": "stdout",
     "output_type": "stream",
     "text": [
      "Something happens before the function runs.\n",
      "Hello!\n",
      "Something happens after the function runs.\n"
     ]
    }
   ],
   "source": [
    "@my_decorator\n",
    "def say_hello():\n",
    "    print(\"Hello!\")\n",
    "\n",
    "say_hello()\n"
   ]
  },
  {
   "cell_type": "code",
   "execution_count": 4,
   "metadata": {},
   "outputs": [],
   "source": [
    "def say_hello():\n",
    "    print(\"Hello!\")\n"
   ]
  },
  {
   "cell_type": "code",
   "execution_count": 5,
   "metadata": {},
   "outputs": [
    {
     "name": "stdout",
     "output_type": "stream",
     "text": [
      "Hello!\n"
     ]
    }
   ],
   "source": [
    "say_hello()\n"
   ]
  },
  {
   "cell_type": "markdown",
   "metadata": {},
   "source": [
    "A decorator is like a \"helper\" that does the extra work for you. Here’s how it works step by step:\n",
    "\n",
    "Create a helper function (decorator).\n",
    "Use the helper to wrap your original function."
   ]
  },
  {
   "cell_type": "code",
   "execution_count": 6,
   "metadata": {},
   "outputs": [
    {
     "name": "stdout",
     "output_type": "stream",
     "text": [
      "Hello, Alice!\n"
     ]
    }
   ],
   "source": [
    "# Define a function\n",
    "def greet(name):\n",
    "    # Function body: Print a greeting message\n",
    "    return f\"Hello, {name}!\"\n",
    "\n",
    "# Call the function with an argument\n",
    "result = greet(\"Alice\")\n",
    "print(result)  # Output: Hello, Alice!\n"
   ]
  },
  {
   "cell_type": "code",
   "execution_count": 12,
   "metadata": {},
   "outputs": [],
   "source": [
    "def greeting_decorator(func):\n",
    "    def wrap(name):\n",
    "        print('before')\n",
    "        result = func(name)\n",
    "        print('after')\n",
    "        return result\n",
    "    return wrap"
   ]
  },
  {
   "cell_type": "code",
   "execution_count": 13,
   "metadata": {},
   "outputs": [],
   "source": [
    "@greeting_decorator  # Apply the decorator to the greet function\n",
    "def greet(name):\n",
    "    return f\"Hello, {name}!\"\n"
   ]
  },
  {
   "cell_type": "code",
   "execution_count": 14,
   "metadata": {},
   "outputs": [
    {
     "name": "stdout",
     "output_type": "stream",
     "text": [
      "before\n",
      "after\n",
      "Hello, Alice!\n"
     ]
    }
   ],
   "source": [
    "result = greet(\"Alice\")\n",
    "print(result)\n"
   ]
  },
  {
   "cell_type": "markdown",
   "metadata": {},
   "source": [
    "What Happens When You Run the Code?\n",
    "The decorator greeting_decorator wraps around the greet() function.\n",
    "When greet(\"Alice\") is called, it:\n",
    "First prints \"Before the greeting!\"\n",
    "Then calls the original greet() function, which returns \"Hello, Alice!\"\n",
    "After that, it prints \"After the greeting!\"\n",
    "Finally, the greeting message \"Hello, Alice!\" is printed."
   ]
  },
  {
   "cell_type": "code",
   "execution_count": 15,
   "metadata": {},
   "outputs": [],
   "source": [
    "def greeting_decorator(func):\n",
    "    def wrapper(*args, **kwargs):  # Accept any number of arguments\n",
    "        print(\"Before the greeting!\")\n",
    "        result = func(*args, **kwargs)  # Pass arguments to the original function\n",
    "        print(\"After the greeting!\")\n",
    "        return result\n",
    "    return wrapper\n"
   ]
  },
  {
   "cell_type": "code",
   "execution_count": 16,
   "metadata": {},
   "outputs": [],
   "source": [
    "@greeting_decorator\n",
    "def greet(name, time_of_day):\n",
    "    return f\"Good {time_of_day}, {name}!\""
   ]
  },
  {
   "cell_type": "code",
   "execution_count": 17,
   "metadata": {},
   "outputs": [
    {
     "name": "stdout",
     "output_type": "stream",
     "text": [
      "Before the greeting!\n",
      "After the greeting!\n",
      "Good morning, Alice!\n"
     ]
    }
   ],
   "source": [
    "# Call the decorated function with two arguments\n",
    "result = greet(\"Alice\", \"morning\")\n",
    "print(result)"
   ]
  },
  {
   "cell_type": "code",
   "execution_count": 18,
   "metadata": {},
   "outputs": [
    {
     "name": "stdout",
     "output_type": "stream",
     "text": [
      "Hello, Alice!\n"
     ]
    }
   ],
   "source": [
    "class MyClass:\n",
    "    @staticmethod\n",
    "    def greet(name):\n",
    "        print(f\"Hello, {name}!\")\n",
    "\n",
    "# You can call the static method without creating an instance of the class\n",
    "MyClass.greet(\"Alice\")\n"
   ]
  },
  {
   "cell_type": "code",
   "execution_count": 19,
   "metadata": {},
   "outputs": [
    {
     "name": "stdout",
     "output_type": "stream",
     "text": [
      "Hello from MyClass, Alice!\n"
     ]
    }
   ],
   "source": [
    "class MyClass:\n",
    "    @classmethod\n",
    "    def greet(cls, name):\n",
    "        print(f\"Hello from {cls.__name__}, {name}!\")\n",
    "\n",
    "MyClass.greet(\"Alice\")\n"
   ]
  },
  {
   "cell_type": "code",
   "execution_count": null,
   "metadata": {},
   "outputs": [],
   "source": []
  }
 ],
 "metadata": {
  "kernelspec": {
   "display_name": "Python 3",
   "language": "python",
   "name": "python3"
  },
  "language_info": {
   "codemirror_mode": {
    "name": "ipython",
    "version": 3
   },
   "file_extension": ".py",
   "mimetype": "text/x-python",
   "name": "python",
   "nbconvert_exporter": "python",
   "pygments_lexer": "ipython3",
   "version": "3.13.1"
  }
 },
 "nbformat": 4,
 "nbformat_minor": 2
}
