{
  "nbformat": 4,
  "nbformat_minor": 0,
  "metadata": {
    "colab": {
      "provenance": [],
      "authorship_tag": "ABX9TyMV6DK/fxtmolBmE1irjceh",
      "include_colab_link": true
    },
    "kernelspec": {
      "name": "python3",
      "display_name": "Python 3"
    },
    "language_info": {
      "name": "python"
    }
  },
  "cells": [
    {
      "cell_type": "markdown",
      "metadata": {
        "id": "view-in-github",
        "colab_type": "text"
      },
      "source": [
        "<a href=\"https://colab.research.google.com/github/Shruti38-Learner/Python/blob/main/Function.ipynb\" target=\"_parent\"><img src=\"https://colab.research.google.com/assets/colab-badge.svg\" alt=\"Open In Colab\"/></a>"
      ]
    },
    {
      "cell_type": "code",
      "execution_count": 1,
      "metadata": {
        "id": "9kRwDSsL5M5t"
      },
      "outputs": [],
      "source": [
        "# we can define function or #invoke function"
      ]
    },
    {
      "cell_type": "code",
      "source": [
        "def say_something(): #we have defined\n",
        "  print(\"Hello\")"
      ],
      "metadata": {
        "id": "bdqmxjzE5m3f"
      },
      "execution_count": 2,
      "outputs": []
    },
    {
      "cell_type": "code",
      "source": [
        "say_something() #now we call"
      ],
      "metadata": {
        "colab": {
          "base_uri": "https://localhost:8080/"
        },
        "id": "r1OQnXcm5tMM",
        "outputId": "e4280661-4022-4489-8656-9baf7653f7fb"
      },
      "execution_count": 4,
      "outputs": [
        {
          "output_type": "stream",
          "name": "stdout",
          "text": [
            "Hello\n"
          ]
        }
      ]
    },
    {
      "cell_type": "code",
      "source": [
        "# function rule are similar ot variable call\n"
      ],
      "metadata": {
        "id": "ojV3oKvk5z3U"
      },
      "execution_count": 5,
      "outputs": []
    },
    {
      "cell_type": "code",
      "source": [
        "def greet(name):\n",
        "   print(f\"{name} Hello\")"
      ],
      "metadata": {
        "id": "zwc0QSgN6ojB"
      },
      "execution_count": 10,
      "outputs": []
    },
    {
      "cell_type": "code",
      "source": [
        "greet(\"Shruti\")"
      ],
      "metadata": {
        "colab": {
          "base_uri": "https://localhost:8080/"
        },
        "id": "Q9AvpgEk6rRl",
        "outputId": "a1e0b8f1-1c56-4685-d56d-653adbdb0c8f"
      },
      "execution_count": 11,
      "outputs": [
        {
          "output_type": "stream",
          "name": "stdout",
          "text": [
            "Shruti Hello\n"
          ]
        }
      ]
    },
    {
      "cell_type": "code",
      "source": [
        "def add(a,b):\n",
        "  return a+b"
      ],
      "metadata": {
        "id": "6XAgcRG660Wd"
      },
      "execution_count": 15,
      "outputs": []
    },
    {
      "cell_type": "code",
      "source": [
        "add(3,4)"
      ],
      "metadata": {
        "colab": {
          "base_uri": "https://localhost:8080/"
        },
        "id": "x-m-U8fu7D46",
        "outputId": "68460e6c-44fa-4186-e2c9-b290bd0d04ba"
      },
      "execution_count": 16,
      "outputs": [
        {
          "output_type": "execute_result",
          "data": {
            "text/plain": [
              "7"
            ]
          },
          "metadata": {},
          "execution_count": 16
        }
      ]
    },
    {
      "cell_type": "code",
      "source": [
        "def calculate_total_cost(price_per_item, quantity):\n",
        "    \"\"\"\n",
        "    Calculate the total cost given the price per item and quantity.\n",
        "    \"\"\"\n",
        "    total_cost = price_per_item * quantity # price_per_item and quantity are parameters\n",
        "    return total_cost"
      ],
      "metadata": {
        "id": "fWdYBj557FmJ"
      },
      "execution_count": 17,
      "outputs": []
    },
    {
      "cell_type": "code",
      "source": [
        "calculate_total_cost(10,20)"
      ],
      "metadata": {
        "colab": {
          "base_uri": "https://localhost:8080/"
        },
        "id": "76jPtrIpAWxD",
        "outputId": "fa30d5ee-8607-4321-c945-2a71900300ce"
      },
      "execution_count": 18,
      "outputs": [
        {
          "output_type": "execute_result",
          "data": {
            "text/plain": [
              "200"
            ]
          },
          "metadata": {},
          "execution_count": 18
        }
      ]
    },
    {
      "cell_type": "code",
      "source": [
        "calculate_total_cost( quantity=11,price_per_item=20) #positional argument we can change the postion of argument"
      ],
      "metadata": {
        "colab": {
          "base_uri": "https://localhost:8080/"
        },
        "id": "bX_qNGo-Aau-",
        "outputId": "ff227188-1694-4850-da80-5f0615cc98fd"
      },
      "execution_count": 20,
      "outputs": [
        {
          "output_type": "execute_result",
          "data": {
            "text/plain": [
              "220"
            ]
          },
          "metadata": {},
          "execution_count": 20
        }
      ]
    },
    {
      "cell_type": "code",
      "source": [
        "def calculate_total_cost(price_per_item=20, quantity=30):\n",
        "    \"\"\"\n",
        "    Calculate the total cost given the price per item and quantity.\n",
        "    \"\"\"\n",
        "    total_cost = price_per_item * quantity # price_per_item and quantity are default parameters given\n",
        "    return total_cost"
      ],
      "metadata": {
        "id": "4Z5sErSmAfua"
      },
      "execution_count": 21,
      "outputs": []
    },
    {
      "cell_type": "code",
      "source": [
        "calculate_total_cost(40,50)"
      ],
      "metadata": {
        "colab": {
          "base_uri": "https://localhost:8080/"
        },
        "id": "ldhpHrOLAw5c",
        "outputId": "fd902dfb-2d55-4014-afb5-f1f932aee5f7"
      },
      "execution_count": 22,
      "outputs": [
        {
          "output_type": "execute_result",
          "data": {
            "text/plain": [
              "2000"
            ]
          },
          "metadata": {},
          "execution_count": 22
        }
      ]
    },
    {
      "cell_type": "code",
      "source": [
        "calculate_total_cost(\"shruti\",50)"
      ],
      "metadata": {
        "colab": {
          "base_uri": "https://localhost:8080/",
          "height": 53
        },
        "id": "6yicTDVjAzRw",
        "outputId": "b171de3e-4e61-4b9c-f0de-0107c959f492"
      },
      "execution_count": 23,
      "outputs": [
        {
          "output_type": "execute_result",
          "data": {
            "text/plain": [
              "'shrutishrutishrutishrutishrutishrutishrutishrutishrutishrutishrutishrutishrutishrutishrutishrutishrutishrutishrutishrutishrutishrutishrutishrutishrutishrutishrutishrutishrutishrutishrutishrutishrutishrutishrutishrutishrutishrutishrutishrutishrutishrutishrutishrutishrutishrutishrutishrutishrutishruti'"
            ],
            "application/vnd.google.colaboratory.intrinsic+json": {
              "type": "string"
            }
          },
          "metadata": {},
          "execution_count": 23
        }
      ]
    },
    {
      "cell_type": "code",
      "source": [
        "#you can even give string in this case which make it dynamic"
      ],
      "metadata": {
        "id": "JknZfR_wA6FS"
      },
      "execution_count": null,
      "outputs": []
    },
    {
      "cell_type": "code",
      "source": [
        "def greater_number(x, y):\n",
        "    \"\"\"\n",
        "    Compare two numbers and return the greater one.\n",
        "    \"\"\"\n",
        "    if x > y:\n",
        "        return x\n",
        "    elif y > x:\n",
        "        return y\n",
        "    else:\n",
        "        return \"Both are equal\"\n",
        "\n",
        "\n"
      ],
      "metadata": {
        "id": "kunBzO6CBKkX"
      },
      "execution_count": 25,
      "outputs": []
    },
    {
      "cell_type": "code",
      "source": [
        "# Calling the function\n",
        "greater = greater_number(7, 5)\n",
        "print(f\"The greater number is: {greater}\")"
      ],
      "metadata": {
        "colab": {
          "base_uri": "https://localhost:8080/"
        },
        "id": "UkPAFtO4BK68",
        "outputId": "d57f50e3-6981-44c7-a788-f235cd523af2"
      },
      "execution_count": 26,
      "outputs": [
        {
          "output_type": "stream",
          "name": "stdout",
          "text": [
            "The greater number is: 7\n"
          ]
        }
      ]
    },
    {
      "cell_type": "code",
      "source": [
        "def funct1(a,b):\n",
        "  def funct2(c,d):\n",
        "    return c+d\n",
        "  return a+b"
      ],
      "metadata": {
        "id": "j35s8V6sBS8F"
      },
      "execution_count": 27,
      "outputs": []
    },
    {
      "cell_type": "code",
      "source": [
        "funct1(2,3)"
      ],
      "metadata": {
        "colab": {
          "base_uri": "https://localhost:8080/"
        },
        "id": "FnNmLmTuC4WQ",
        "outputId": "e46e2a55-f84e-4693-8b41-b415b6cf9526"
      },
      "execution_count": 28,
      "outputs": [
        {
          "output_type": "execute_result",
          "data": {
            "text/plain": [
              "5"
            ]
          },
          "metadata": {},
          "execution_count": 28
        }
      ]
    },
    {
      "cell_type": "code",
      "source": [
        "def funct1(a,b):\n",
        "  def funct2(c,d):\n",
        "    return c+d\n",
        "  return funct2(a,b)"
      ],
      "metadata": {
        "id": "aq8dowmSC63t"
      },
      "execution_count": 32,
      "outputs": []
    },
    {
      "cell_type": "code",
      "source": [
        "funct1(2,3)"
      ],
      "metadata": {
        "colab": {
          "base_uri": "https://localhost:8080/"
        },
        "id": "Nl3s7OpWDAtC",
        "outputId": "f989fc2e-ce00-4206-86ed-1f6c2b98396a"
      },
      "execution_count": 33,
      "outputs": [
        {
          "output_type": "execute_result",
          "data": {
            "text/plain": [
              "5"
            ]
          },
          "metadata": {},
          "execution_count": 33
        }
      ]
    },
    {
      "cell_type": "code",
      "source": [
        "'''How It Works\n",
        "Outer Function (funct1):\n",
        "\n",
        "Accepts two parameters a and b.\n",
        "Contains a nested function (funct2).\n",
        "Inner Function (funct2):\n",
        "\n",
        "Accepts two parameters c and d.\n",
        "Returns their sum: c + d.\n",
        "Execution Flow:\n",
        "\n",
        "When funct1 is called, it internally calls funct2, passing a and b as arguments.\n",
        "The result of funct2(a, b) is returned by funct1.'''"
      ],
      "metadata": {
        "id": "QCt_5L2NDQQL"
      },
      "execution_count": null,
      "outputs": []
    }
  ]
}