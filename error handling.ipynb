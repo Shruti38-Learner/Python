{
 "cells": [
  {
   "cell_type": "markdown",
   "metadata": {},
   "source": [
    "Error handling in Python is typically done using try, except, else, and finally blocks. Here's an example of how to use them:\n"
   ]
  },
  {
   "cell_type": "code",
   "execution_count": 1,
   "metadata": {},
   "outputs": [],
   "source": [
    "age=int(input(\"what is your age?\"))\n"
   ]
  },
  {
   "cell_type": "code",
   "execution_count": 12,
   "metadata": {},
   "outputs": [
    {
     "name": "stdout",
     "output_type": "stream",
     "text": [
      "32\n"
     ]
    }
   ],
   "source": [
    "print(age)"
   ]
  },
  {
   "cell_type": "code",
   "execution_count": 13,
   "metadata": {},
   "outputs": [
    {
     "name": "stdout",
     "output_type": "stream",
     "text": [
      "please enter a number\n"
     ]
    }
   ],
   "source": [
    "try:\n",
    "    age=int(input(\"what is your age?\"))\n",
    "except:\n",
    "    print('please enter a number')"
   ]
  },
  {
   "cell_type": "code",
   "execution_count": null,
   "metadata": {},
   "outputs": [],
   "source": [
    "while True:\n",
    "    try:\n",
    "        age=int(input(\"what is your age?\"))\n",
    "    except:\n",
    "        print('please enter a number') ###this loop will continue and will not stop"
   ]
  },
  {
   "cell_type": "code",
   "execution_count": null,
   "metadata": {},
   "outputs": [],
   "source": [
    "while True:\n",
    "    try:\n",
    "        age=int(input(\"what is your age?\"))\n",
    "    except:\n",
    "        print('please enter a number')\n",
    "    else:\n",
    "        print('thank you')\n",
    "    break"
   ]
  },
  {
   "cell_type": "code",
   "execution_count": 6,
   "metadata": {},
   "outputs": [
    {
     "name": "stdout",
     "output_type": "stream",
     "text": [
      "thank you\n"
     ]
    }
   ],
   "source": [
    "while True:\n",
    "    try:\n",
    "        age=int(input(\"what is your age?\"))\n",
    "        10/age\n",
    "    except ValueError:\n",
    "        print('please enter a number')\n",
    "    except ZeroDivisionError:\n",
    "        print(\"please enter age value greater than 0\")\n",
    "    else:\n",
    "        print('thank you')\n",
    "    break"
   ]
  },
  {
   "cell_type": "code",
   "execution_count": 7,
   "metadata": {},
   "outputs": [
    {
     "name": "stdout",
     "output_type": "stream",
     "text": [
      "Please enter an age value greater than 0.\n",
      "Thank you!\n"
     ]
    }
   ],
   "source": [
    "while True:\n",
    "    try:\n",
    "        age = int(input(\"What is your age? \"))\n",
    "        if age <= 0:\n",
    "            raise ZeroDivisionError  # Raise an exception if age is less than or equal to 0\n",
    "    except ValueError:\n",
    "        print(\"Please enter a valid number.\")\n",
    "    except ZeroDivisionError:\n",
    "        print(\"Please enter an age value greater than 0.\")\n",
    "    else:\n",
    "        print(\"Thank you!\")\n",
    "        break  # Exit the loop if no exception occurs\n"
   ]
  },
  {
   "cell_type": "code",
   "execution_count": 8,
   "metadata": {},
   "outputs": [],
   "source": [
    "def sum(num1,num2):\n",
    "    try:\n",
    "        return num1+num2\n",
    "    except:\n",
    "        print(\"something went wrong\")"
   ]
  },
  {
   "cell_type": "code",
   "execution_count": 9,
   "metadata": {},
   "outputs": [
    {
     "name": "stdout",
     "output_type": "stream",
     "text": [
      "something went wrong\n",
      "None\n"
     ]
    }
   ],
   "source": [
    "print(sum('1',2))"
   ]
  },
  {
   "cell_type": "code",
   "execution_count": 10,
   "metadata": {},
   "outputs": [],
   "source": [
    "def sum(num1,num2):\n",
    "    try:\n",
    "        return num1+num2\n",
    "    except TypeError as err:\n",
    "        print(\"something went wrong\",err)"
   ]
  },
  {
   "cell_type": "code",
   "execution_count": 11,
   "metadata": {},
   "outputs": [
    {
     "name": "stdout",
     "output_type": "stream",
     "text": [
      "something went wrong can only concatenate str (not \"int\") to str\n",
      "None\n"
     ]
    }
   ],
   "source": [
    "print(sum('1',2))"
   ]
  },
  {
   "cell_type": "code",
   "execution_count": 12,
   "metadata": {},
   "outputs": [
    {
     "name": "stdout",
     "output_type": "stream",
     "text": [
      "Invalid input: invalid literal for int() with base 10: '32]'\n",
      "Thank you! Your age is 32.\n"
     ]
    }
   ],
   "source": [
    "while True:\n",
    "    try:\n",
    "        # Asking for user input and stripping any extra spaces\n",
    "        age_input = input(\"What is your age? \").strip()\n",
    "\n",
    "        # Check if the input is empty\n",
    "        if not age_input:\n",
    "            raise ValueError(\"Input cannot be empty.\")\n",
    "\n",
    "        # Convert the input into an integer\n",
    "        age = int(age_input)\n",
    "\n",
    "        # Check if age is a valid positive number\n",
    "        if age <= 0:\n",
    "            raise ValueError(\"Age must be greater than zero.\")\n",
    "        \n",
    "    except ValueError as ve:\n",
    "        # Catch invalid values (non-numeric, empty input, etc.)\n",
    "        print(f\"Invalid input: {ve}\")\n",
    "    except Exception as e:\n",
    "        # Catch any other unexpected errors\n",
    "        print(f\"An unexpected error occurred: {e}\")\n",
    "    else:\n",
    "        # If no error occurs, print thank you and exit the loop\n",
    "        print(f\"Thank you! Your age is {age}.\")\n",
    "        break\n"
   ]
  },
  {
   "cell_type": "code",
   "execution_count": 13,
   "metadata": {},
   "outputs": [
    {
     "name": "stdout",
     "output_type": "stream",
     "text": [
      "Thank you! Your age is 32.\n"
     ]
    }
   ],
   "source": [
    "while True:\n",
    "    try:\n",
    "        # Ask for user input and strip any leading/trailing whitespace\n",
    "        age_input = input(\"What is your age? \").strip()\n",
    "\n",
    "        # Check if the input is empty\n",
    "        if not age_input:\n",
    "            raise ValueError(\"Input cannot be empty.\")  # Raise ValueError if input is empty\n",
    "\n",
    "        # Convert input to an integer\n",
    "        age = int(age_input)\n",
    "\n",
    "        # Check if age is a valid positive number\n",
    "        if age <= 0:\n",
    "            raise ValueError(\"Age must be greater than zero.\")  # Raise ValueError if age <= 0\n",
    "\n",
    "    except ValueError as ve:\n",
    "        # Catch ValueError and print the error message\n",
    "        print(f\"Invalid input: {ve}\")\n",
    "    except Exception as e:\n",
    "        # Catch any other unexpected exceptions\n",
    "        print(f\"An unexpected error occurred: {e}\")\n",
    "    else:\n",
    "        # If no exception occurs, print thank you and exit the loop\n",
    "        print(f\"Thank you! Your age is {age}.\")\n",
    "        break  # Exit the loop when a valid age is entered\n"
   ]
  },
  {
   "cell_type": "code",
   "execution_count": null,
   "metadata": {},
   "outputs": [],
   "source": []
  }
 ],
 "metadata": {
  "kernelspec": {
   "display_name": "Python 3",
   "language": "python",
   "name": "python3"
  },
  "language_info": {
   "codemirror_mode": {
    "name": "ipython",
    "version": 3
   },
   "file_extension": ".py",
   "mimetype": "text/x-python",
   "name": "python",
   "nbconvert_exporter": "python",
   "pygments_lexer": "ipython3",
   "version": "3.13.1"
  }
 },
 "nbformat": 4,
 "nbformat_minor": 2
}
