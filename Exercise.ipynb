{
  "nbformat": 4,
  "nbformat_minor": 0,
  "metadata": {
    "colab": {
      "provenance": [],
      "authorship_tag": "ABX9TyMZlskSvSaKoLGm8ffy1a1u",
      "include_colab_link": true
    },
    "kernelspec": {
      "name": "python3",
      "display_name": "Python 3"
    },
    "language_info": {
      "name": "python"
    }
  },
  "cells": [
    {
      "cell_type": "markdown",
      "metadata": {
        "id": "view-in-github",
        "colab_type": "text"
      },
      "source": [
        "<a href=\"https://colab.research.google.com/github/Shruti38-Learner/Python/blob/main/Exercise.ipynb\" target=\"_parent\"><img src=\"https://colab.research.google.com/assets/colab-badge.svg\" alt=\"Open In Colab\"/></a>"
      ]
    },
    {
      "cell_type": "markdown",
      "source": [
        "Remove Duplicates\n"
      ],
      "metadata": {
        "id": "E6w7vAJZ1DmJ"
      }
    },
    {
      "cell_type": "code",
      "execution_count": 2,
      "metadata": {
        "colab": {
          "base_uri": "https://localhost:8080/"
        },
        "id": "Uj53TKIr0M-o",
        "outputId": "6894f8f6-a396-415b-961a-260bffcfa086"
      },
      "outputs": [
        {
          "output_type": "stream",
          "name": "stdout",
          "text": [
            "[2, 3, 2, 6, 3, 6]\n"
          ]
        }
      ],
      "source": [
        "my_list = [1, 2, 3, 4, 2, 5, 6, 3, 7, 8, 6]\n",
        "duplicates=[]\n",
        "for item in my_list:\n",
        "  if my_list.count(item)>1:\n",
        "    duplicates.append(item)\n",
        "print(duplicates)"
      ]
    },
    {
      "cell_type": "code",
      "source": [
        "my_list = [1, 2, 3, 4, 2, 5, 6, 3, 7, 8, 6]\n",
        "duplicates=[]\n",
        "for item in my_list:\n",
        "  if my_list.count(item)>1:\n",
        "    if item not in duplicates:\n",
        "      duplicates.append(item)\n",
        "print(duplicates)"
      ],
      "metadata": {
        "colab": {
          "base_uri": "https://localhost:8080/"
        },
        "id": "K1ryRY9M0jNr",
        "outputId": "18037299-9cd8-4003-9bc3-1b2abefb4ee2"
      },
      "execution_count": 3,
      "outputs": [
        {
          "output_type": "stream",
          "name": "stdout",
          "text": [
            "[2, 3, 6]\n"
          ]
        }
      ]
    },
    {
      "cell_type": "markdown",
      "source": [
        "Python Program: Count Occurrences of Each Element in a List"
      ],
      "metadata": {
        "id": "g6hcssya4nps"
      }
    },
    {
      "cell_type": "code",
      "source": [
        "# Input list\n",
        "input_list = [1, 2, 3, 4, 5, 6, 3, 7, 8, 2, 9, 3]\n",
        "\n",
        "occurance={}\n",
        "for i in input_list:\n",
        "  occurance[i]=occurance.get(item, 0) + 1\n",
        "\n",
        "for item, count in occurance.items():\n",
        "    print(f\"{item}: {count}\")"
      ],
      "metadata": {
        "colab": {
          "base_uri": "https://localhost:8080/"
        },
        "id": "FNbEOIFG3EYx",
        "outputId": "220685c4-016b-4a75-8ea9-cc30a5924a74"
      },
      "execution_count": 9,
      "outputs": [
        {
          "output_type": "stream",
          "name": "stdout",
          "text": [
            "1: 1\n",
            "2: 1\n",
            "3: 2\n",
            "4: 1\n",
            "5: 1\n",
            "6: 1\n",
            "7: 1\n",
            "8: 1\n",
            "9: 1\n"
          ]
        }
      ]
    },
    {
      "cell_type": "markdown",
      "source": [
        "Another Variation: Count Character Occurrences in a String"
      ],
      "metadata": {
        "id": "HURcLxjO4zMa"
      }
    },
    {
      "cell_type": "code",
      "source": [
        "# Input string\n",
        "input_string = \"hello world\"\n",
        "\n",
        "# Create a dictionary to count occurrences\n",
        "occurrences = {}\n",
        "\n",
        "# Count the occurrences of each character\n",
        "for char in input_string:\n",
        "    occurrences[char] = occurrences.get(char, 0) + 1\n",
        "\n",
        "# Output the result\n",
        "print(\"Occurrences of each character:\")\n",
        "for char, count in occurrences.items():\n",
        "    print(f\"{char}: {count}\")\n"
      ],
      "metadata": {
        "colab": {
          "base_uri": "https://localhost:8080/"
        },
        "id": "g2eISXDd3FB6",
        "outputId": "25623426-27fb-4639-9ded-6e9628197e94"
      },
      "execution_count": 10,
      "outputs": [
        {
          "output_type": "stream",
          "name": "stdout",
          "text": [
            "Occurrences of each character:\n",
            "h: 1\n",
            "e: 1\n",
            "l: 3\n",
            "o: 2\n",
            " : 1\n",
            "w: 1\n",
            "r: 1\n",
            "d: 1\n"
          ]
        }
      ]
    },
    {
      "cell_type": "code",
      "source": [],
      "metadata": {
        "id": "6zX3YlgD41nb"
      },
      "execution_count": null,
      "outputs": []
    }
  ]
}