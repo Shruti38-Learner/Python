{
  "nbformat": 4,
  "nbformat_minor": 0,
  "metadata": {
    "colab": {
      "provenance": [],
      "authorship_tag": "ABX9TyPe0sLpkdjxiNHLzJH5mqgU",
      "include_colab_link": true
    },
    "kernelspec": {
      "name": "python3",
      "display_name": "Python 3"
    },
    "language_info": {
      "name": "python"
    }
  },
  "cells": [
    {
      "cell_type": "markdown",
      "metadata": {
        "id": "view-in-github",
        "colab_type": "text"
      },
      "source": [
        "<a href=\"https://colab.research.google.com/github/Shruti38-Learner/Python/blob/main/First_GUI.ipynb\" target=\"_parent\"><img src=\"https://colab.research.google.com/assets/colab-badge.svg\" alt=\"Open In Colab\"/></a>"
      ]
    },
    {
      "cell_type": "code",
      "execution_count": 3,
      "metadata": {
        "id": "fQl0AB2QkSLg"
      },
      "outputs": [],
      "source": [
        "picture = [\n",
        "    [0, 0, 0, 1, 0, 0, 0],\n",
        "    [0, 0, 1, 1, 1, 0, 0],\n",
        "    [0, 1, 1, 1, 1, 1, 0],\n",
        "    [1, 1, 1, 1, 1, 1, 1],\n",
        "    [0, 0, 0, 1, 0, 0, 0],\n",
        "    [0, 0, 0, 1, 0, 0, 0],\n",
        "]\n"
      ]
    },
    {
      "cell_type": "code",
      "source": [
        "# print * from picture where ever it is 1"
      ],
      "metadata": {
        "id": "cT2ltBhckUOu"
      },
      "execution_count": 1,
      "outputs": []
    },
    {
      "cell_type": "code",
      "source": [
        "for row in picture:\n",
        "  for pixel in row:\n",
        "    if pixel==1:\n",
        "      print('*')"
      ],
      "metadata": {
        "colab": {
          "base_uri": "https://localhost:8080/"
        },
        "id": "o_as-jobo2RP",
        "outputId": "781f4bc8-66a9-4c7d-d47b-1c37367ab945"
      },
      "execution_count": 4,
      "outputs": [
        {
          "output_type": "stream",
          "name": "stdout",
          "text": [
            "*\n",
            "*\n",
            "*\n",
            "*\n",
            "*\n",
            "*\n",
            "*\n",
            "*\n",
            "*\n",
            "*\n",
            "*\n",
            "*\n",
            "*\n",
            "*\n",
            "*\n",
            "*\n",
            "*\n",
            "*\n"
          ]
        }
      ]
    },
    {
      "cell_type": "code",
      "source": [
        "for row in picture:\n",
        "  for pixel in row:\n",
        "    if pixel==1:\n",
        "      print('*',end='')"
      ],
      "metadata": {
        "colab": {
          "base_uri": "https://localhost:8080/"
        },
        "id": "_utO0b1fpCk3",
        "outputId": "67c4be00-8d13-4979-9676-94eecfb3503e"
      },
      "execution_count": 5,
      "outputs": [
        {
          "output_type": "stream",
          "name": "stdout",
          "text": [
            "******************"
          ]
        }
      ]
    },
    {
      "cell_type": "code",
      "source": [
        "for row in picture:\n",
        "  for pixel in row:\n",
        "    if pixel==1:\n",
        "      print('*',end='')\n",
        "    else:\n",
        "      print(' ')"
      ],
      "metadata": {
        "colab": {
          "base_uri": "https://localhost:8080/"
        },
        "id": "-NcsiQ05qqX5",
        "outputId": "fc8cb58d-c87d-4b8b-ba01-caab10d79bb6"
      },
      "execution_count": 9,
      "outputs": [
        {
          "output_type": "stream",
          "name": "stdout",
          "text": [
            " \n",
            " \n",
            " \n",
            "* \n",
            " \n",
            " \n",
            " \n",
            " \n",
            "*** \n",
            " \n",
            " \n",
            "***** \n",
            "******* \n",
            " \n",
            " \n",
            "* \n",
            " \n",
            " \n",
            " \n",
            " \n",
            " \n",
            "* \n",
            " \n",
            " \n"
          ]
        }
      ]
    },
    {
      "cell_type": "code",
      "source": [
        "for row in picture:\n",
        "  for pixel in row:\n",
        "    if pixel==1:\n",
        "      print('*',end='')\n",
        "    else:\n",
        "      print(' ',end='')"
      ],
      "metadata": {
        "colab": {
          "base_uri": "https://localhost:8080/"
        },
        "id": "dJdN5_s-qvA-",
        "outputId": "21c1fa22-c103-4b06-95d9-e440dbcb16e1"
      },
      "execution_count": 10,
      "outputs": [
        {
          "output_type": "stream",
          "name": "stdout",
          "text": [
            "   *     ***   ***** *******   *      *   "
          ]
        }
      ]
    },
    {
      "cell_type": "code",
      "source": [
        "for row in picture:\n",
        "  for pixel in row:\n",
        "    if pixel==1:\n",
        "      print('*',end='')\n",
        "    else:\n",
        "      print(' ',end='')\n",
        "  print('')"
      ],
      "metadata": {
        "colab": {
          "base_uri": "https://localhost:8080/"
        },
        "id": "tV748emVq4_I",
        "outputId": "72781ccc-4600-42db-eaf8-1fcbb2662957"
      },
      "execution_count": 11,
      "outputs": [
        {
          "output_type": "stream",
          "name": "stdout",
          "text": [
            "   *   \n",
            "  ***  \n",
            " ***** \n",
            "*******\n",
            "   *   \n",
            "   *   \n"
          ]
        }
      ]
    },
    {
      "cell_type": "markdown",
      "source": [
        "Simple Right-Angled Triangle"
      ],
      "metadata": {
        "id": "7QsqHR1RxMGI"
      }
    },
    {
      "cell_type": "code",
      "source": [
        "n=5\n",
        "for i in range(n):\n",
        "  print(\"*\" * i)\n",
        "print(end='')"
      ],
      "metadata": {
        "colab": {
          "base_uri": "https://localhost:8080/"
        },
        "id": "vho0_3OOrN2k",
        "outputId": "31ab1021-2973-4828-8f4b-5c230357c116"
      },
      "execution_count": 18,
      "outputs": [
        {
          "output_type": "stream",
          "name": "stdout",
          "text": [
            "\n",
            "*\n",
            "**\n",
            "***\n",
            "****\n"
          ]
        }
      ]
    },
    {
      "cell_type": "markdown",
      "source": [
        " Inverted Triangle"
      ],
      "metadata": {
        "id": "WCHOccfhxycj"
      }
    },
    {
      "cell_type": "code",
      "source": [
        "n=5\n",
        "for i in range(n,0,-1):\n",
        "  print(\"*\" * i)"
      ],
      "metadata": {
        "colab": {
          "base_uri": "https://localhost:8080/"
        },
        "id": "AlZJJ3ERxTuT",
        "outputId": "8f502ede-7aed-4eb6-e773-65190468e2d2"
      },
      "execution_count": 22,
      "outputs": [
        {
          "output_type": "stream",
          "name": "stdout",
          "text": [
            "*****\n",
            "****\n",
            "***\n",
            "**\n",
            "*\n"
          ]
        }
      ]
    },
    {
      "cell_type": "markdown",
      "source": [
        "Pyramid"
      ],
      "metadata": {
        "id": "u0ckUSYTyIca"
      }
    },
    {
      "cell_type": "code",
      "source": [
        "n=5\n",
        "for i in range(1,n+1):\n",
        "  print(\" \" *(n-i)+ \"*\" * (2*i-1))\n"
      ],
      "metadata": {
        "colab": {
          "base_uri": "https://localhost:8080/"
        },
        "id": "eiQQjZqLx5HG",
        "outputId": "77295785-f98e-4279-a7b5-9f94f879d160"
      },
      "execution_count": 28,
      "outputs": [
        {
          "output_type": "stream",
          "name": "stdout",
          "text": [
            "    *\n",
            "   ***\n",
            "  *****\n",
            " *******\n",
            "*********\n"
          ]
        }
      ]
    },
    {
      "cell_type": "code",
      "source": [],
      "metadata": {
        "id": "eDLdny3JyqQV"
      },
      "execution_count": null,
      "outputs": []
    }
  ]
}