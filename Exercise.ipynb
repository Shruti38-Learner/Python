{
  "nbformat": 4,
  "nbformat_minor": 0,
  "metadata": {
    "colab": {
      "provenance": [],
      "authorship_tag": "ABX9TyO/udSrSREReZ40Xp6Q+gZF",
      "include_colab_link": true
    },
    "kernelspec": {
      "name": "python3",
      "display_name": "Python 3"
    },
    "language_info": {
      "name": "python"
    }
  },
  "cells": [
    {
      "cell_type": "markdown",
      "metadata": {
        "id": "view-in-github",
        "colab_type": "text"
      },
      "source": [
        "<a href=\"https://colab.research.google.com/github/Shruti38-Learner/Python/blob/main/Exercise.ipynb\" target=\"_parent\"><img src=\"https://colab.research.google.com/assets/colab-badge.svg\" alt=\"Open In Colab\"/></a>"
      ]
    },
    {
      "cell_type": "markdown",
      "source": [
        "Remove Duplicates\n"
      ],
      "metadata": {
        "id": "E6w7vAJZ1DmJ"
      }
    },
    {
      "cell_type": "code",
      "execution_count": null,
      "metadata": {
        "colab": {
          "base_uri": "https://localhost:8080/"
        },
        "id": "Uj53TKIr0M-o",
        "outputId": "6894f8f6-a396-415b-961a-260bffcfa086"
      },
      "outputs": [
        {
          "output_type": "stream",
          "name": "stdout",
          "text": [
            "[2, 3, 2, 6, 3, 6]\n"
          ]
        }
      ],
      "source": [
        "my_list = [1, 2, 3, 4, 2, 5, 6, 3, 7, 8, 6]\n",
        "duplicates=[]\n",
        "for item in my_list:\n",
        "  if my_list.count(item)>1:\n",
        "    duplicates.append(item)\n",
        "print(duplicates)"
      ]
    },
    {
      "cell_type": "code",
      "source": [
        "my_list = [1, 2, 3, 4, 2, 5, 6, 3, 7, 8, 6]\n",
        "duplicates=[]\n",
        "for item in my_list:\n",
        "  if my_list.count(item)>1:\n",
        "    if item not in duplicates:\n",
        "      duplicates.append(item)\n",
        "print(duplicates)"
      ],
      "metadata": {
        "colab": {
          "base_uri": "https://localhost:8080/"
        },
        "id": "K1ryRY9M0jNr",
        "outputId": "18037299-9cd8-4003-9bc3-1b2abefb4ee2"
      },
      "execution_count": null,
      "outputs": [
        {
          "output_type": "stream",
          "name": "stdout",
          "text": [
            "[2, 3, 6]\n"
          ]
        }
      ]
    },
    {
      "cell_type": "markdown",
      "source": [
        "Python Program: Count Occurrences of Each Element in a List"
      ],
      "metadata": {
        "id": "g6hcssya4nps"
      }
    },
    {
      "cell_type": "code",
      "source": [
        "# Input list\n",
        "input_list = [1, 2, 3, 4, 5, 6, 3, 7, 8, 2, 9, 3]\n",
        "\n",
        "occurance={}\n",
        "for i in input_list:\n",
        "  occurance[i]=occurance.get(item, 0) + 1\n",
        "\n",
        "for item, count in occurance.items():\n",
        "    print(f\"{item}: {count}\")"
      ],
      "metadata": {
        "colab": {
          "base_uri": "https://localhost:8080/"
        },
        "id": "FNbEOIFG3EYx",
        "outputId": "220685c4-016b-4a75-8ea9-cc30a5924a74"
      },
      "execution_count": null,
      "outputs": [
        {
          "output_type": "stream",
          "name": "stdout",
          "text": [
            "1: 1\n",
            "2: 1\n",
            "3: 2\n",
            "4: 1\n",
            "5: 1\n",
            "6: 1\n",
            "7: 1\n",
            "8: 1\n",
            "9: 1\n"
          ]
        }
      ]
    },
    {
      "cell_type": "markdown",
      "source": [
        "Another Variation: Count Character Occurrences in a String"
      ],
      "metadata": {
        "id": "HURcLxjO4zMa"
      }
    },
    {
      "cell_type": "code",
      "source": [
        "# Input string\n",
        "input_string = \"hello world\"\n",
        "\n",
        "# Create a dictionary to count occurrences\n",
        "occurrences = {}\n",
        "\n",
        "# Count the occurrences of each character\n",
        "for char in input_string:\n",
        "    occurrences[char] = occurrences.get(char, 0) + 1\n",
        "\n",
        "# Output the result\n",
        "print(\"Occurrences of each character:\")\n",
        "for char, count in occurrences.items():\n",
        "    print(f\"{char}: {count}\")\n"
      ],
      "metadata": {
        "colab": {
          "base_uri": "https://localhost:8080/"
        },
        "id": "g2eISXDd3FB6",
        "outputId": "25623426-27fb-4639-9ded-6e9628197e94"
      },
      "execution_count": null,
      "outputs": [
        {
          "output_type": "stream",
          "name": "stdout",
          "text": [
            "Occurrences of each character:\n",
            "h: 1\n",
            "e: 1\n",
            "l: 3\n",
            "o: 2\n",
            " : 1\n",
            "w: 1\n",
            "r: 1\n",
            "d: 1\n"
          ]
        }
      ]
    },
    {
      "cell_type": "code",
      "source": [
        "def driver_age(age=0):\n",
        "  age=int(input(\"what\\'s your age?\"))\n",
        "  if age>18:\n",
        "    print(\"powering on.Enjoy the ride!\")\n",
        "  elif age ==18:\n",
        "    print(\"congratulation on your first ride!\")\n",
        "  else:\n",
        "    print(\"you are too young!,Powering off\")"
      ],
      "metadata": {
        "id": "6zX3YlgD41nb"
      },
      "execution_count": null,
      "outputs": []
    },
    {
      "cell_type": "code",
      "source": [
        "driver_age()"
      ],
      "metadata": {
        "colab": {
          "base_uri": "https://localhost:8080/"
        },
        "id": "oTiycea8GCk2",
        "outputId": "bfe9fe96-51cd-4d38-9671-1636133ac2f4"
      },
      "execution_count": null,
      "outputs": [
        {
          "output_type": "stream",
          "name": "stdout",
          "text": [
            "what's your age?45\n",
            "powering on.Enjoy the ride!\n"
          ]
        }
      ]
    },
    {
      "cell_type": "code",
      "source": [
        "def highest_even(*args):\n",
        "  even=[]\n",
        "  for i in args:\n",
        "    if i%2==0:\n",
        "      even.append(i)\n",
        "  return max(even)\n"
      ],
      "metadata": {
        "id": "0e3Z0NY5GQZ5"
      },
      "execution_count": 1,
      "outputs": []
    },
    {
      "cell_type": "code",
      "source": [
        "highest_even(10,20,30,40)"
      ],
      "metadata": {
        "id": "MlcUIrT0c1An",
        "outputId": "d532b8ec-a340-4249-bd4c-e11b5a164804",
        "colab": {
          "base_uri": "https://localhost:8080/"
        }
      },
      "execution_count": 2,
      "outputs": [
        {
          "output_type": "execute_result",
          "data": {
            "text/plain": [
              "40"
            ]
          },
          "metadata": {},
          "execution_count": 2
        }
      ]
    },
    {
      "cell_type": "code",
      "source": [
        "def highest_even(*args):\n",
        "  even=[]\n",
        "  for i in args:\n",
        "    if i%2==0:\n",
        "      even.append(i)\n",
        "    return max(even) #indentation changed"
      ],
      "metadata": {
        "id": "9XYGvyDBc9wU"
      },
      "execution_count": 3,
      "outputs": []
    },
    {
      "cell_type": "code",
      "source": [
        "highest_even(10,20,30,40)"
      ],
      "metadata": {
        "id": "kXdiMVFZdNAe",
        "outputId": "ff45af75-63c3-47c9-dd14-e4557ec98084",
        "colab": {
          "base_uri": "https://localhost:8080/"
        }
      },
      "execution_count": 4,
      "outputs": [
        {
          "output_type": "execute_result",
          "data": {
            "text/plain": [
              "10"
            ]
          },
          "metadata": {},
          "execution_count": 4
        }
      ]
    },
    {
      "cell_type": "code",
      "source": [],
      "metadata": {
        "id": "VtmBSpjfdN8U"
      },
      "execution_count": null,
      "outputs": []
    }
  ]
}