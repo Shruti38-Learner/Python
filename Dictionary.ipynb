{
  "nbformat": 4,
  "nbformat_minor": 0,
  "metadata": {
    "colab": {
      "provenance": [],
      "authorship_tag": "ABX9TyMZsP9jCVWYO0wLD5icrot/",
      "include_colab_link": true
    },
    "kernelspec": {
      "name": "python3",
      "display_name": "Python 3"
    },
    "language_info": {
      "name": "python"
    }
  },
  "cells": [
    {
      "cell_type": "markdown",
      "metadata": {
        "id": "view-in-github",
        "colab_type": "text"
      },
      "source": [
        "<a href=\"https://colab.research.google.com/github/Shruti38-Learner/Python/blob/main/Dictionary.ipynb\" target=\"_parent\"><img src=\"https://colab.research.google.com/assets/colab-badge.svg\" alt=\"Open In Colab\"/></a>"
      ]
    },
    {
      "cell_type": "code",
      "execution_count": 3,
      "metadata": {
        "id": "Do6lOOT8Cnld"
      },
      "outputs": [],
      "source": [
        "dict1={'a':1,'b':2,'c':3}"
      ]
    },
    {
      "cell_type": "code",
      "source": [
        "print(dict1['b']) #there is no indexing in dictionary and its an unordered"
      ],
      "metadata": {
        "colab": {
          "base_uri": "https://localhost:8080/"
        },
        "id": "eezutQ2qC_yp",
        "outputId": "91d54d18-17f5-4543-a8d5-cee18e9d36e5"
      },
      "execution_count": 5,
      "outputs": [
        {
          "output_type": "stream",
          "name": "stdout",
          "text": [
            "2\n"
          ]
        }
      ]
    },
    {
      "cell_type": "code",
      "source": [
        "dict2={'a':[1,2,3],'b':2,'c':3}"
      ],
      "metadata": {
        "id": "6rM0jriDDIz1"
      },
      "execution_count": 6,
      "outputs": []
    },
    {
      "cell_type": "code",
      "source": [
        "# real time data store kr sakte hai mostly use hota hai"
      ],
      "metadata": {
        "id": "KRgVg_BhDVDc"
      },
      "execution_count": 7,
      "outputs": []
    },
    {
      "cell_type": "code",
      "source": [
        "dict3=[{'a':[1,2,3],'b':2,'c':3},{'a':[1,2,3],'b':2,'c':3},{'a':[1,2,3],'b':2,'c':3}] # list in dictionary"
      ],
      "metadata": {
        "id": "ML3bBrJfDp49"
      },
      "execution_count": 8,
      "outputs": []
    },
    {
      "cell_type": "code",
      "source": [
        "#list are mutuable except those nothing are mutable"
      ],
      "metadata": {
        "id": "nzJkAZrYEOcR"
      },
      "execution_count": 9,
      "outputs": []
    },
    {
      "cell_type": "code",
      "source": [
        "employee = {\n",
        "    \"id\": 101,\n",
        "    \"name\": \"John Doe\",\n",
        "    \"age\": 30,\n",
        "    \"department\": \"Human Resources\",\n",
        "    \"position\": \"Manager\",\n",
        "    \"salary\": 75000,\n",
        "    \"full_time\": True\n",
        "}\n"
      ],
      "metadata": {
        "id": "5AQIEX5KGYZL"
      },
      "execution_count": 10,
      "outputs": []
    },
    {
      "cell_type": "code",
      "source": [
        "print('age' in employee)"
      ],
      "metadata": {
        "colab": {
          "base_uri": "https://localhost:8080/"
        },
        "id": "8IrTCg8mGYtX",
        "outputId": "eb7bab82-e8cf-4fa7-df4c-9695efb4251d"
      },
      "execution_count": 12,
      "outputs": [
        {
          "output_type": "stream",
          "name": "stdout",
          "text": [
            "True\n"
          ]
        }
      ]
    },
    {
      "cell_type": "code",
      "source": [
        "print('age' in employee.keys())"
      ],
      "metadata": {
        "colab": {
          "base_uri": "https://localhost:8080/"
        },
        "id": "wsVy1dczGcB2",
        "outputId": "4c9b1543-ae87-4b2b-ae28-26fc9d4cd9c5"
      },
      "execution_count": 13,
      "outputs": [
        {
          "output_type": "stream",
          "name": "stdout",
          "text": [
            "True\n"
          ]
        }
      ]
    },
    {
      "cell_type": "code",
      "source": [
        "print(employee.values())"
      ],
      "metadata": {
        "colab": {
          "base_uri": "https://localhost:8080/"
        },
        "id": "B31VDjuuGmXr",
        "outputId": "9671220f-4590-4aa1-f1c7-7b0ba5ee7f51"
      },
      "execution_count": 14,
      "outputs": [
        {
          "output_type": "stream",
          "name": "stdout",
          "text": [
            "dict_values([101, 'John Doe', 30, 'Human Resources', 'Manager', 75000, True])\n"
          ]
        }
      ]
    },
    {
      "cell_type": "code",
      "source": [
        "print(employee.items())"
      ],
      "metadata": {
        "colab": {
          "base_uri": "https://localhost:8080/"
        },
        "id": "wfydxV03G2qX",
        "outputId": "34cbf35a-0714-418a-ce18-927d6b87678d"
      },
      "execution_count": 15,
      "outputs": [
        {
          "output_type": "stream",
          "name": "stdout",
          "text": [
            "dict_items([('id', 101), ('name', 'John Doe'), ('age', 30), ('department', 'Human Resources'), ('position', 'Manager'), ('salary', 75000), ('full_time', True)])\n"
          ]
        }
      ]
    },
    {
      "cell_type": "code",
      "source": [
        "dict2=employee.copy()"
      ],
      "metadata": {
        "id": "B7mTQLYQHKVB"
      },
      "execution_count": 19,
      "outputs": []
    },
    {
      "cell_type": "code",
      "source": [
        "print(dict2)"
      ],
      "metadata": {
        "colab": {
          "base_uri": "https://localhost:8080/"
        },
        "id": "oMmvpY7RHZNf",
        "outputId": "3a67c79e-0171-4071-e23c-90bf31990610"
      },
      "execution_count": 20,
      "outputs": [
        {
          "output_type": "stream",
          "name": "stdout",
          "text": [
            "{'id': 101, 'name': 'John Doe', 'age': 30, 'department': 'Human Resources', 'position': 'Manager', 'salary': 75000, 'full_time': True}\n"
          ]
        }
      ]
    },
    {
      "cell_type": "code",
      "source": [
        "employee.clear()"
      ],
      "metadata": {
        "id": "Wr6dvoPaHcdI"
      },
      "execution_count": 21,
      "outputs": []
    },
    {
      "cell_type": "code",
      "source": [
        "print(employee)"
      ],
      "metadata": {
        "colab": {
          "base_uri": "https://localhost:8080/"
        },
        "id": "sLGCo_jHHkqX",
        "outputId": "9be9e9e7-727a-47ee-e67e-3d4d389686c1"
      },
      "execution_count": 22,
      "outputs": [
        {
          "output_type": "stream",
          "name": "stdout",
          "text": [
            "{}\n"
          ]
        }
      ]
    },
    {
      "cell_type": "code",
      "source": [
        "dict2.pop('name')"
      ],
      "metadata": {
        "colab": {
          "base_uri": "https://localhost:8080/",
          "height": 35
        },
        "id": "z5uZFCcZHmjM",
        "outputId": "da3ccdbe-81f6-41f6-e69b-e771803bc6d1"
      },
      "execution_count": 25,
      "outputs": [
        {
          "output_type": "execute_result",
          "data": {
            "text/plain": [
              "'John Doe'"
            ],
            "application/vnd.google.colaboratory.intrinsic+json": {
              "type": "string"
            }
          },
          "metadata": {},
          "execution_count": 25
        }
      ]
    },
    {
      "cell_type": "code",
      "source": [
        "print(dict2)"
      ],
      "metadata": {
        "colab": {
          "base_uri": "https://localhost:8080/"
        },
        "id": "42yAgYPaHvAA",
        "outputId": "1f5cac6a-80d3-4c1e-ab3c-2262dcc750bd"
      },
      "execution_count": 26,
      "outputs": [
        {
          "output_type": "stream",
          "name": "stdout",
          "text": [
            "{'id': 101, 'age': 30, 'department': 'Human Resources', 'position': 'Manager', 'salary': 75000, 'full_time': True}\n"
          ]
        }
      ]
    },
    {
      "cell_type": "code",
      "source": [
        "dict2.popitem() #delete random value"
      ],
      "metadata": {
        "colab": {
          "base_uri": "https://localhost:8080/"
        },
        "id": "BbspYPbbHwLd",
        "outputId": "4618f9b4-aa92-4772-9279-637a29c87737"
      },
      "execution_count": 28,
      "outputs": [
        {
          "output_type": "execute_result",
          "data": {
            "text/plain": [
              "('full_time', True)"
            ]
          },
          "metadata": {},
          "execution_count": 28
        }
      ]
    },
    {
      "cell_type": "code",
      "source": [
        "print(dict2)"
      ],
      "metadata": {
        "colab": {
          "base_uri": "https://localhost:8080/"
        },
        "id": "Rqew3hKNH_fc",
        "outputId": "b5d10644-8493-4b86-83fd-c5d6df5fd9ff"
      },
      "execution_count": 29,
      "outputs": [
        {
          "output_type": "stream",
          "name": "stdout",
          "text": [
            "{'id': 101, 'age': 30, 'department': 'Human Resources', 'position': 'Manager', 'salary': 75000}\n"
          ]
        }
      ]
    },
    {
      "cell_type": "code",
      "source": [
        "dict2.update({'Country':'India'})"
      ],
      "metadata": {
        "id": "gC6hJWMJIDyZ"
      },
      "execution_count": 32,
      "outputs": []
    },
    {
      "cell_type": "code",
      "source": [
        "print(dict2)"
      ],
      "metadata": {
        "colab": {
          "base_uri": "https://localhost:8080/"
        },
        "id": "k6GOiO5-IQQt",
        "outputId": "dca10385-0b3c-48e0-ca77-e1e9514a9217"
      },
      "execution_count": 33,
      "outputs": [
        {
          "output_type": "stream",
          "name": "stdout",
          "text": [
            "{'id': 101, 'age': 30, 'department': 'Human Resources', 'position': 'Manager', 'salary': 75000, 'Country': 'India'}\n"
          ]
        }
      ]
    },
    {
      "cell_type": "code",
      "source": [
        "customers = [\n",
        "    {\n",
        "        1: 1001,\n",
        "        \"name\": \"Alice Brown\",\n",
        "        \"email\": \"alice.brown@example.com\",\n",
        "        \"phone\": \"555-123-4567\",\n",
        "        \"address\": {\n",
        "            \"street\": \"789 Maple St\",\n",
        "            \"city\": \"Seattle\",\n",
        "            \"state\": \"WA\",\n",
        "            \"zip\": \"98101\"\n",
        "        },\n",
        "        \"orders\": [101, 102]\n",
        "    },\n",
        "    {\n",
        "        \"id\": 1002,\n",
        "        \"name\": \"Tom Wilson\",\n",
        "        \"email\": \"tom.wilson@example.com\",\n",
        "        \"phone\": \"555-765-4321\",\n",
        "        \"address\": {\n",
        "            \"street\": \"456 Birch St\",\n",
        "            \"city\": \"San Francisco\",\n",
        "            \"state\": \"CA\",\n",
        "            \"zip\": \"94105\"\n",
        "        },\n",
        "        \"orders\": [103]\n",
        "    }\n",
        "]\n"
      ],
      "metadata": {
        "id": "PqEhq7spIdAD"
      },
      "execution_count": 34,
      "outputs": []
    },
    {
      "cell_type": "code",
      "source": [
        "customers = [\n",
        "    {\n",
        "        1.1: 1001,\n",
        "        \"name\": \"Alice Brown\",\n",
        "        \"email\": \"alice.brown@example.com\",\n",
        "        \"phone\": \"555-123-4567\",\n",
        "        \"address\": {\n",
        "            \"street\": \"789 Maple St\",\n",
        "            \"city\": \"Seattle\",\n",
        "            \"state\": \"WA\",\n",
        "            \"zip\": \"98101\"\n",
        "        },\n",
        "        \"orders\": [101, 102]\n",
        "    },\n",
        "    {\n",
        "        \"id\": 1002,\n",
        "        \"name\": \"Tom Wilson\",\n",
        "        \"email\": \"tom.wilson@example.com\",\n",
        "        \"phone\": \"555-765-4321\",\n",
        "        \"address\": {\n",
        "            \"street\": \"456 Birch St\",\n",
        "            \"city\": \"San Francisco\",\n",
        "            \"state\": \"CA\",\n",
        "            \"zip\": \"94105\"\n",
        "        },\n",
        "        \"orders\": [103]\n",
        "    }\n",
        "]\n"
      ],
      "metadata": {
        "id": "LCV4remDK-rR"
      },
      "execution_count": 35,
      "outputs": []
    },
    {
      "cell_type": "code",
      "source": [
        "customers = [\n",
        "    {\n",
        "        bool: 1001,\n",
        "        \"name\": \"Alice Brown\",\n",
        "        \"email\": \"alice.brown@example.com\",\n",
        "        \"phone\": \"555-123-4567\",\n",
        "        \"address\": {\n",
        "            \"street\": \"789 Maple St\",\n",
        "            \"city\": \"Seattle\",\n",
        "            \"state\": \"WA\",\n",
        "            \"zip\": \"98101\"\n",
        "        },\n",
        "        \"orders\": [101, 102]\n",
        "    },\n",
        "    {\n",
        "        \"id\": 1002,\n",
        "        \"name\": \"Tom Wilson\",\n",
        "        \"email\": \"tom.wilson@example.com\",\n",
        "        \"phone\": \"555-765-4321\",\n",
        "        \"address\": {\n",
        "            \"street\": \"456 Birch St\",\n",
        "            \"city\": \"San Francisco\",\n",
        "            \"state\": \"CA\",\n",
        "            \"zip\": \"94105\"\n",
        "        },\n",
        "        \"orders\": [103]\n",
        "    }\n",
        "]\n"
      ],
      "metadata": {
        "id": "NRkLIhydLDPi"
      },
      "execution_count": 36,
      "outputs": []
    },
    {
      "cell_type": "code",
      "source": [
        "#i cannot put list or dictionary in key as they are mutuable i need to put the key which are immutable"
      ],
      "metadata": {
        "id": "6ubiee4qLE5v"
      },
      "execution_count": 37,
      "outputs": []
    },
    {
      "cell_type": "code",
      "source": [
        "order = dict(\n",
        "    order_id= 101,\n",
        "    customer= dict(\n",
        "        id= 1001,\n",
        "        name= \"Alice Brown\",\n",
        "        email= \"alice.brown@example.com\")\n",
        ")# another way to write dictionary"
      ],
      "metadata": {
        "id": "a3ovZsBaLNdp"
      },
      "execution_count": 39,
      "outputs": []
    },
    {
      "cell_type": "code",
      "source": [],
      "metadata": {
        "id": "H73mjDTpLnE5"
      },
      "execution_count": null,
      "outputs": []
    }
  ]
}