{
  "nbformat": 4,
  "nbformat_minor": 0,
  "metadata": {
    "colab": {
      "provenance": [],
      "authorship_tag": "ABX9TyMx4LcGH+FxU3xUhfsYtE1B",
      "include_colab_link": true
    },
    "kernelspec": {
      "name": "python3",
      "display_name": "Python 3"
    },
    "language_info": {
      "name": "python"
    }
  },
  "cells": [
    {
      "cell_type": "markdown",
      "metadata": {
        "id": "view-in-github",
        "colab_type": "text"
      },
      "source": [
        "<a href=\"https://colab.research.google.com/github/Shruti38-Learner/Python/blob/main/Age_Calculator.ipynb\" target=\"_parent\"><img src=\"https://colab.research.google.com/assets/colab-badge.svg\" alt=\"Open In Colab\"/></a>"
      ]
    },
    {
      "cell_type": "code",
      "execution_count": 1,
      "metadata": {
        "id": "8CjyF5g2U63r"
      },
      "outputs": [],
      "source": [
        "name='shruti'"
      ]
    },
    {
      "cell_type": "code",
      "source": [
        "age=26"
      ],
      "metadata": {
        "id": "gS_DdeYjVEg9"
      },
      "execution_count": 2,
      "outputs": []
    },
    {
      "cell_type": "code",
      "source": [
        "relationship_status=\"single\""
      ],
      "metadata": {
        "id": "dlBHwmTGVFyZ"
      },
      "execution_count": 3,
      "outputs": []
    },
    {
      "cell_type": "code",
      "source": [
        "relationship_status=\"it\\'s complicated\""
      ],
      "metadata": {
        "id": "ViXMQCBYVJ2d"
      },
      "execution_count": 4,
      "outputs": []
    },
    {
      "cell_type": "code",
      "source": [
        "print(relationship_status)"
      ],
      "metadata": {
        "colab": {
          "base_uri": "https://localhost:8080/"
        },
        "id": "Slo2yVPSVSi9",
        "outputId": "d4582df3-62a5-4a89-bb1c-4ff21ab3fbf5"
      },
      "execution_count": 5,
      "outputs": [
        {
          "output_type": "stream",
          "name": "stdout",
          "text": [
            "it's complicated\n"
          ]
        }
      ]
    },
    {
      "cell_type": "code",
      "source": [
        "birth_year=input('what year you were born?')"
      ],
      "metadata": {
        "colab": {
          "base_uri": "https://localhost:8080/"
        },
        "id": "SGm9QdWSVUVU",
        "outputId": "bae58a89-3b93-474e-81bc-2034475d1e26"
      },
      "execution_count": 11,
      "outputs": [
        {
          "name": "stdout",
          "output_type": "stream",
          "text": [
            "what year you were born?1998\n"
          ]
        }
      ]
    },
    {
      "cell_type": "code",
      "source": [
        "age=2024-int(birth_year)"
      ],
      "metadata": {
        "id": "xVVasnnzVfcb"
      },
      "execution_count": 13,
      "outputs": []
    },
    {
      "cell_type": "code",
      "source": [
        "print(f'Your age is {age}')"
      ],
      "metadata": {
        "colab": {
          "base_uri": "https://localhost:8080/"
        },
        "id": "vS8MJMdmVjWE",
        "outputId": "98267d4f-71f0-418c-9b35-a93e71411405"
      },
      "execution_count": 15,
      "outputs": [
        {
          "output_type": "stream",
          "name": "stdout",
          "text": [
            "Your age is 26\n"
          ]
        }
      ]
    },
    {
      "cell_type": "code",
      "source": [],
      "metadata": {
        "id": "c2asXwjoVtxm"
      },
      "execution_count": null,
      "outputs": []
    }
  ]
}