{
  "nbformat": 4,
  "nbformat_minor": 0,
  "metadata": {
    "colab": {
      "provenance": [],
      "authorship_tag": "ABX9TyN4F/TULTRB2zTm8tiyORH6",
      "include_colab_link": true
    },
    "kernelspec": {
      "name": "python3",
      "display_name": "Python 3"
    },
    "language_info": {
      "name": "python"
    }
  },
  "cells": [
    {
      "cell_type": "markdown",
      "metadata": {
        "id": "view-in-github",
        "colab_type": "text"
      },
      "source": [
        "<a href=\"https://colab.research.google.com/github/Shruti38-Learner/Python/blob/main/Exercise.ipynb\" target=\"_parent\"><img src=\"https://colab.research.google.com/assets/colab-badge.svg\" alt=\"Open In Colab\"/></a>"
      ]
    },
    {
      "cell_type": "markdown",
      "source": [
        "Remove Duplicates\n"
      ],
      "metadata": {
        "id": "E6w7vAJZ1DmJ"
      }
    },
    {
      "cell_type": "code",
      "execution_count": null,
      "metadata": {
        "colab": {
          "base_uri": "https://localhost:8080/"
        },
        "id": "Uj53TKIr0M-o",
        "outputId": "6894f8f6-a396-415b-961a-260bffcfa086"
      },
      "outputs": [
        {
          "output_type": "stream",
          "name": "stdout",
          "text": [
            "[2, 3, 2, 6, 3, 6]\n"
          ]
        }
      ],
      "source": [
        "my_list = [1, 2, 3, 4, 2, 5, 6, 3, 7, 8, 6]\n",
        "duplicates=[]\n",
        "for item in my_list:\n",
        "  if my_list.count(item)>1:\n",
        "    duplicates.append(item)\n",
        "print(duplicates)"
      ]
    },
    {
      "cell_type": "code",
      "source": [
        "my_list = [1, 2, 3, 4, 2, 5, 6, 3, 7, 8, 6]\n",
        "duplicates=[]\n",
        "for item in my_list:\n",
        "  if my_list.count(item)>1:\n",
        "    if item not in duplicates:\n",
        "      duplicates.append(item)\n",
        "print(duplicates)"
      ],
      "metadata": {
        "colab": {
          "base_uri": "https://localhost:8080/"
        },
        "id": "K1ryRY9M0jNr",
        "outputId": "18037299-9cd8-4003-9bc3-1b2abefb4ee2"
      },
      "execution_count": null,
      "outputs": [
        {
          "output_type": "stream",
          "name": "stdout",
          "text": [
            "[2, 3, 6]\n"
          ]
        }
      ]
    },
    {
      "cell_type": "markdown",
      "source": [
        "Python Program: Count Occurrences of Each Element in a List"
      ],
      "metadata": {
        "id": "g6hcssya4nps"
      }
    },
    {
      "cell_type": "code",
      "source": [
        "# Input list\n",
        "input_list = [1, 2, 3, 4, 5, 6, 3, 7, 8, 2, 9, 3]\n",
        "\n",
        "occurance={}\n",
        "for i in input_list:\n",
        "  occurance[i]=occurance.get(item, 0) + 1\n",
        "\n",
        "for item, count in occurance.items():\n",
        "    print(f\"{item}: {count}\")"
      ],
      "metadata": {
        "colab": {
          "base_uri": "https://localhost:8080/"
        },
        "id": "FNbEOIFG3EYx",
        "outputId": "220685c4-016b-4a75-8ea9-cc30a5924a74"
      },
      "execution_count": null,
      "outputs": [
        {
          "output_type": "stream",
          "name": "stdout",
          "text": [
            "1: 1\n",
            "2: 1\n",
            "3: 2\n",
            "4: 1\n",
            "5: 1\n",
            "6: 1\n",
            "7: 1\n",
            "8: 1\n",
            "9: 1\n"
          ]
        }
      ]
    },
    {
      "cell_type": "markdown",
      "source": [
        "Another Variation: Count Character Occurrences in a String"
      ],
      "metadata": {
        "id": "HURcLxjO4zMa"
      }
    },
    {
      "cell_type": "code",
      "source": [
        "# Input string\n",
        "input_string = \"hello world\"\n",
        "\n",
        "# Create a dictionary to count occurrences\n",
        "occurrences = {}\n",
        "\n",
        "# Count the occurrences of each character\n",
        "for char in input_string:\n",
        "    occurrences[char] = occurrences.get(char, 0) + 1\n",
        "\n",
        "# Output the result\n",
        "print(\"Occurrences of each character:\")\n",
        "for char, count in occurrences.items():\n",
        "    print(f\"{char}: {count}\")\n"
      ],
      "metadata": {
        "colab": {
          "base_uri": "https://localhost:8080/"
        },
        "id": "g2eISXDd3FB6",
        "outputId": "25623426-27fb-4639-9ded-6e9628197e94"
      },
      "execution_count": null,
      "outputs": [
        {
          "output_type": "stream",
          "name": "stdout",
          "text": [
            "Occurrences of each character:\n",
            "h: 1\n",
            "e: 1\n",
            "l: 3\n",
            "o: 2\n",
            " : 1\n",
            "w: 1\n",
            "r: 1\n",
            "d: 1\n"
          ]
        }
      ]
    },
    {
      "cell_type": "code",
      "source": [
        "def driver_age(age=0):\n",
        "  age=int(input(\"what\\'s your age?\"))\n",
        "  if age>18:\n",
        "    print(\"powering on.Enjoy the ride!\")\n",
        "  elif age ==18:\n",
        "    print(\"congratulation on your first ride!\")\n",
        "  else:\n",
        "    print(\"you are too young!,Powering off\")"
      ],
      "metadata": {
        "id": "6zX3YlgD41nb"
      },
      "execution_count": null,
      "outputs": []
    },
    {
      "cell_type": "code",
      "source": [
        "driver_age()"
      ],
      "metadata": {
        "colab": {
          "base_uri": "https://localhost:8080/"
        },
        "id": "oTiycea8GCk2",
        "outputId": "bfe9fe96-51cd-4d38-9671-1636133ac2f4"
      },
      "execution_count": null,
      "outputs": [
        {
          "output_type": "stream",
          "name": "stdout",
          "text": [
            "what's your age?45\n",
            "powering on.Enjoy the ride!\n"
          ]
        }
      ]
    },
    {
      "cell_type": "code",
      "source": [
        "def highest_even(*args):\n",
        "  even=[]\n",
        "  for i in args:\n",
        "    if i%2==0:\n",
        "      even.append(i)\n",
        "  return max(even)\n"
      ],
      "metadata": {
        "id": "0e3Z0NY5GQZ5"
      },
      "execution_count": null,
      "outputs": []
    },
    {
      "cell_type": "code",
      "source": [
        "highest_even(10,20,30,40)"
      ],
      "metadata": {
        "id": "MlcUIrT0c1An",
        "outputId": "d532b8ec-a340-4249-bd4c-e11b5a164804",
        "colab": {
          "base_uri": "https://localhost:8080/"
        }
      },
      "execution_count": null,
      "outputs": [
        {
          "output_type": "execute_result",
          "data": {
            "text/plain": [
              "40"
            ]
          },
          "metadata": {},
          "execution_count": 2
        }
      ]
    },
    {
      "cell_type": "code",
      "source": [
        "def highest_even(*args):\n",
        "  even=[]\n",
        "  for i in args:\n",
        "    if i%2==0:\n",
        "      even.append(i)\n",
        "    return max(even) #indentation changed"
      ],
      "metadata": {
        "id": "9XYGvyDBc9wU"
      },
      "execution_count": null,
      "outputs": []
    },
    {
      "cell_type": "code",
      "source": [
        "highest_even(10,20,30,40)"
      ],
      "metadata": {
        "id": "kXdiMVFZdNAe",
        "outputId": "ff45af75-63c3-47c9-dd14-e4557ec98084",
        "colab": {
          "base_uri": "https://localhost:8080/"
        }
      },
      "execution_count": null,
      "outputs": [
        {
          "output_type": "execute_result",
          "data": {
            "text/plain": [
              "10"
            ]
          },
          "metadata": {},
          "execution_count": 4
        }
      ]
    },
    {
      "cell_type": "code",
      "source": [
        "data = input(\"Enter something: \")\n",
        "while data != \"quit\":\n",
        "    print(f\"You entered: {data}\")\n",
        "    data = input(\"Enter something: \")\n"
      ],
      "metadata": {
        "id": "VtmBSpjfdN8U",
        "outputId": "77e3c163-4529-4add-b5ba-143d151cfb49",
        "colab": {
          "base_uri": "https://localhost:8080/"
        }
      },
      "execution_count": 1,
      "outputs": [
        {
          "name": "stdout",
          "output_type": "stream",
          "text": [
            "Enter something: 3\n",
            "You entered: 3\n",
            "Enter something: quit\n"
          ]
        }
      ]
    },
    {
      "cell_type": "code",
      "source": [
        "while (data := input(\"Enter something: \")) != \"quit\":\n",
        "    print(f\"You entered: {data}\")\n"
      ],
      "metadata": {
        "id": "YQyKeSGpUAGP",
        "outputId": "c78d16e3-1989-4b25-a811-af72d4a0699d",
        "colab": {
          "base_uri": "https://localhost:8080/"
        }
      },
      "execution_count": 2,
      "outputs": [
        {
          "name": "stdout",
          "output_type": "stream",
          "text": [
            "Enter something: quit\n"
          ]
        }
      ]
    },
    {
      "cell_type": "code",
      "source": [
        "value = compute_value()\n",
        "if value > 10:\n",
        "    print(f\"Value is large: {value}\")\n"
      ],
      "metadata": {
        "id": "Px4gq07QUJ2c",
        "outputId": "bf5edab2-6551-4043-c848-f503a6e00402",
        "colab": {
          "base_uri": "https://localhost:8080/",
          "height": 180
        }
      },
      "execution_count": 4,
      "outputs": [
        {
          "output_type": "error",
          "ename": "NameError",
          "evalue": "name 'compute_value' is not defined",
          "traceback": [
            "\u001b[0;31m---------------------------------------------------------------------------\u001b[0m",
            "\u001b[0;31mNameError\u001b[0m                                 Traceback (most recent call last)",
            "\u001b[0;32m<ipython-input-4-aa2d1ade47af>\u001b[0m in \u001b[0;36m<cell line: 1>\u001b[0;34m()\u001b[0m\n\u001b[0;32m----> 1\u001b[0;31m \u001b[0mvalue\u001b[0m \u001b[0;34m=\u001b[0m \u001b[0mcompute_value\u001b[0m\u001b[0;34m(\u001b[0m\u001b[0;34m)\u001b[0m\u001b[0;34m\u001b[0m\u001b[0;34m\u001b[0m\u001b[0m\n\u001b[0m\u001b[1;32m      2\u001b[0m \u001b[0;32mif\u001b[0m \u001b[0mvalue\u001b[0m \u001b[0;34m>\u001b[0m \u001b[0;36m10\u001b[0m\u001b[0;34m:\u001b[0m\u001b[0;34m\u001b[0m\u001b[0;34m\u001b[0m\u001b[0m\n\u001b[1;32m      3\u001b[0m     \u001b[0mprint\u001b[0m\u001b[0;34m(\u001b[0m\u001b[0;34mf\"Value is large: {value}\"\u001b[0m\u001b[0;34m)\u001b[0m\u001b[0;34m\u001b[0m\u001b[0;34m\u001b[0m\u001b[0m\n",
            "\u001b[0;31mNameError\u001b[0m: name 'compute_value' is not defined"
          ]
        }
      ]
    },
    {
      "cell_type": "code",
      "source": [
        "if (value := compute_value()) > 10:\n",
        "    print(f\"Value is large: {value}\")\n"
      ],
      "metadata": {
        "id": "Zd-ME34_UikM",
        "outputId": "51f90e66-ec25-4c41-9939-c7fba34c9a7d",
        "colab": {
          "base_uri": "https://localhost:8080/",
          "height": 162
        }
      },
      "execution_count": 5,
      "outputs": [
        {
          "output_type": "error",
          "ename": "NameError",
          "evalue": "name 'compute_value' is not defined",
          "traceback": [
            "\u001b[0;31m---------------------------------------------------------------------------\u001b[0m",
            "\u001b[0;31mNameError\u001b[0m                                 Traceback (most recent call last)",
            "\u001b[0;32m<ipython-input-5-d4e6ad29df04>\u001b[0m in \u001b[0;36m<cell line: 1>\u001b[0;34m()\u001b[0m\n\u001b[0;32m----> 1\u001b[0;31m \u001b[0;32mif\u001b[0m \u001b[0;34m(\u001b[0m\u001b[0mvalue\u001b[0m \u001b[0;34m:=\u001b[0m \u001b[0mcompute_value\u001b[0m\u001b[0;34m(\u001b[0m\u001b[0;34m)\u001b[0m\u001b[0;34m)\u001b[0m \u001b[0;34m>\u001b[0m \u001b[0;36m10\u001b[0m\u001b[0;34m:\u001b[0m\u001b[0;34m\u001b[0m\u001b[0;34m\u001b[0m\u001b[0m\n\u001b[0m\u001b[1;32m      2\u001b[0m     \u001b[0mprint\u001b[0m\u001b[0;34m(\u001b[0m\u001b[0;34mf\"Value is large: {value}\"\u001b[0m\u001b[0;34m)\u001b[0m\u001b[0;34m\u001b[0m\u001b[0;34m\u001b[0m\u001b[0m\n",
            "\u001b[0;31mNameError\u001b[0m: name 'compute_value' is not defined"
          ]
        }
      ]
    },
    {
      "cell_type": "code",
      "source": [
        "results = []\n",
        "for x in range(10):\n",
        "    y = x * x\n",
        "    if y > 10:\n",
        "        results.append(y)\n"
      ],
      "metadata": {
        "id": "usk_6Hi_UosY"
      },
      "execution_count": 6,
      "outputs": []
    },
    {
      "cell_type": "code",
      "source": [
        "results = [y for x in range(10) if (y := x * x) > 10]\n"
      ],
      "metadata": {
        "id": "W-KSRzzzVgS-"
      },
      "execution_count": 7,
      "outputs": []
    },
    {
      "cell_type": "code",
      "source": [],
      "metadata": {
        "id": "VlFy8czNVhvH"
      },
      "execution_count": null,
      "outputs": []
    }
  ]
}