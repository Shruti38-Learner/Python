{
 "cells": [
  {
   "cell_type": "code",
   "execution_count": 2,
   "metadata": {},
   "outputs": [
    {
     "data": {
      "text/plain": [
       "'A class is a fundamental concept in object-oriented programming (OOP) that serves\\n as a blueprint for creating objects. It defines the properties (attributes) and\\n   behaviors (methods) that the objects created from the class will have.'"
      ]
     },
     "execution_count": 2,
     "metadata": {},
     "output_type": "execute_result"
    }
   ],
   "source": [
    "'''A class is a fundamental concept in object-oriented programming (OOP) that serves\n",
    " as a blueprint for creating objects. It defines the properties (attributes) and\n",
    "   behaviors (methods) that the objects created from the class will have.'''"
   ]
  },
  {
   "cell_type": "code",
   "execution_count": 3,
   "metadata": {},
   "outputs": [
    {
     "data": {
      "text/plain": [
       "'Basic Definition:\\nClass: A blueprint or template that defines the structure and behavior of objects.\\nObject: An instance of a class, which holds actual data and can call methods \\ndefined in the class'"
      ]
     },
     "execution_count": 3,
     "metadata": {},
     "output_type": "execute_result"
    }
   ],
   "source": [
    "'''Basic Definition:\n",
    "Class: A blueprint or template that defines the structure and behavior of objects.\n",
    "Object: An instance of a class, which holds actual data and can call methods \n",
    "defined in the class'''\n"
   ]
  },
  {
   "cell_type": "code",
   "execution_count": 68,
   "metadata": {},
   "outputs": [],
   "source": [
    "class Person:\n",
    "    pass\n",
    "# Create an instance of the Person class\n",
    "person=Person()   #this is we call object"
   ]
  },
  {
   "cell_type": "code",
   "execution_count": 70,
   "metadata": {},
   "outputs": [],
   "source": [
    "person.name=\"shruti\""
   ]
  },
  {
   "cell_type": "code",
   "execution_count": 69,
   "metadata": {},
   "outputs": [],
   "source": [
    "#none,str,int,float are object of the class"
   ]
  },
  {
   "cell_type": "code",
   "execution_count": 66,
   "metadata": {},
   "outputs": [
    {
     "name": "stdout",
     "output_type": "stream",
     "text": [
      "shruti\n"
     ]
    }
   ],
   "source": [
    "print(person.name)"
   ]
  },
  {
   "cell_type": "code",
   "execution_count": 1,
   "metadata": {},
   "outputs": [],
   "source": [
    "class myclass:\n",
    "    x=5"
   ]
  },
  {
   "cell_type": "code",
   "execution_count": 7,
   "metadata": {},
   "outputs": [
    {
     "name": "stdout",
     "output_type": "stream",
     "text": [
      "5\n"
     ]
    }
   ],
   "source": [
    "p1=myclass()\n",
    "print(p1.x)"
   ]
  },
  {
   "cell_type": "markdown",
   "metadata": {},
   "source": [
    "To understand the meaning of classes we have to understand the built-in __init__() function.\n",
    "\n",
    "All classes have a function called __init__(), which is always executed when the class is being initiated."
   ]
  },
  {
   "cell_type": "code",
   "execution_count": 4,
   "metadata": {},
   "outputs": [],
   "source": [
    "class clasname:\n",
    "    pass"
   ]
  },
  {
   "cell_type": "code",
   "execution_count": 5,
   "metadata": {},
   "outputs": [],
   "source": [
    "objet1=clasname()\n",
    "object2=clasname()"
   ]
  },
  {
   "cell_type": "code",
   "execution_count": 6,
   "metadata": {},
   "outputs": [
    {
     "name": "stdout",
     "output_type": "stream",
     "text": [
      "<class '__main__.clasname'>\n"
     ]
    }
   ],
   "source": [
    "print(type(object2))"
   ]
  },
  {
   "cell_type": "code",
   "execution_count": 73,
   "metadata": {},
   "outputs": [],
   "source": [
    "class car:\n",
    "    pass\n",
    "# Assign attributes directly\n",
    "\n",
    "car.make = \"Toyota\"\n",
    "car.model = \"Corolla\"\n",
    "car.year = 2020\n"
   ]
  },
  {
   "cell_type": "code",
   "execution_count": 74,
   "metadata": {},
   "outputs": [
    {
     "name": "stdout",
     "output_type": "stream",
     "text": [
      "Car make: Toyota\n",
      "Car model: Corolla\n",
      "Car year: 2020\n"
     ]
    }
   ],
   "source": [
    "# Print the car's attributes\n",
    "print(f\"Car make: {car.make}\")\n",
    "print(f\"Car model: {car.model}\")\n",
    "print(f\"Car year: {car.year}\")"
   ]
  },
  {
   "cell_type": "code",
   "execution_count": 8,
   "metadata": {},
   "outputs": [],
   "source": [
    "class car:\n",
    "    def __init__(self,model,carname):\n",
    "        self.model=model\n",
    "        self.carname=carname\n",
    "    def display_info(self):\n",
    "        print(f'This car is {self.carname} and {self.model}')"
   ]
  },
  {
   "cell_type": "code",
   "execution_count": 14,
   "metadata": {},
   "outputs": [],
   "source": [
    "my_car=car(\"121\",\"toyata\")"
   ]
  },
  {
   "cell_type": "code",
   "execution_count": 16,
   "metadata": {},
   "outputs": [
    {
     "name": "stdout",
     "output_type": "stream",
     "text": [
      "This car is toyata and 121\n"
     ]
    }
   ],
   "source": [
    "my_car.display_info()"
   ]
  },
  {
   "cell_type": "code",
   "execution_count": 19,
   "metadata": {},
   "outputs": [
    {
     "data": {
      "text/plain": [
       "'self is the first parameter in instance\\n methods of a class and allows the method to access the\\n   instance’s attributes and other methods.'"
      ]
     },
     "execution_count": 19,
     "metadata": {},
     "output_type": "execute_result"
    }
   ],
   "source": [
    "'''self is the first parameter in instance\n",
    " methods of a class and allows the method to access the\n",
    "   instance’s attributes and other methods.'''"
   ]
  },
  {
   "cell_type": "code",
   "execution_count": 17,
   "metadata": {},
   "outputs": [
    {
     "data": {
      "text/plain": [
       "\"'What is self?\\n\\nself is a reference to the current instance of the class. It is used inside instance methods to access or modify the attributes and methods of the object.\\nEvery instance of a class has its own self that points to that specific object\""
      ]
     },
     "execution_count": 17,
     "metadata": {},
     "output_type": "execute_result"
    }
   ],
   "source": [
    "''''What is self?\n",
    "\n",
    "self is a reference to the current instance of the class. It is used inside instance methods to access or modify the attributes and methods of the object.\n",
    "Every instance of a class has its own self that points to that specific object'''"
   ]
  },
  {
   "cell_type": "code",
   "execution_count": 20,
   "metadata": {},
   "outputs": [],
   "source": [
    "class Car:\n",
    "    def __init__(self, make, model):  #attribute\n",
    "        self.make = make\n",
    "        self.model = model\n"
   ]
  },
  {
   "cell_type": "code",
   "execution_count": 21,
   "metadata": {},
   "outputs": [],
   "source": [
    "my_car = Car(\"Toyota\", \"Corolla\")\n"
   ]
  },
  {
   "cell_type": "code",
   "execution_count": 22,
   "metadata": {},
   "outputs": [
    {
     "name": "stdout",
     "output_type": "stream",
     "text": [
      "<__main__.Car object at 0x103ce67b0>\n"
     ]
    }
   ],
   "source": [
    "print(my_car)"
   ]
  },
  {
   "cell_type": "code",
   "execution_count": 23,
   "metadata": {},
   "outputs": [
    {
     "data": {
      "text/plain": [
       "'How self Works Internally:\\nCreating an instance: When my_car = Car(\"Toyota\", \"Corolla\") is called, Python internally calls Car.__init__(my_car, \"Toyota\", \"Corolla\"). Here, my_car is passed as the self argument.\\n\\nCalling a method: When my_car.display_info() is called,\\n Python internally calls Car.display_info(my_car). Again, my_car is\\n   passed as self automatically.\\n\\nThus, self ensures that each method has access to the attributes and\\n methods of the instance (object) it is called on.'"
      ]
     },
     "execution_count": 23,
     "metadata": {},
     "output_type": "execute_result"
    }
   ],
   "source": [
    "'''How self Works Internally:\n",
    "Creating an instance: When my_car = Car(\"Toyota\", \"Corolla\") is called, Python internally calls Car.__init__(my_car, \"Toyota\", \"Corolla\"). Here, my_car is passed as the self argument.\n",
    "\n",
    "Calling a method: When my_car.display_info() is called,\n",
    " Python internally calls Car.display_info(my_car). Again, my_car is\n",
    "   passed as self automatically.\n",
    "\n",
    "Thus, self ensures that each method has access to the attributes and\n",
    " methods of the instance (object) it is called on.'''"
   ]
  },
  {
   "cell_type": "code",
   "execution_count": 24,
   "metadata": {},
   "outputs": [],
   "source": [
    "class playcharacter:\n",
    "    def __init__(self,name,age):\n",
    "        self.name=name\n",
    "        self.age=age\n",
    "    def run (self):\n",
    "        print('run')"
   ]
  },
  {
   "cell_type": "code",
   "execution_count": 25,
   "metadata": {},
   "outputs": [],
   "source": [
    "player1=playcharacter(\"shruti\",\"26\")"
   ]
  },
  {
   "cell_type": "code",
   "execution_count": 26,
   "metadata": {},
   "outputs": [
    {
     "name": "stdout",
     "output_type": "stream",
     "text": [
      "<__main__.playcharacter object at 0x103ce6f90>\n"
     ]
    }
   ],
   "source": [
    "print(player1)"
   ]
  },
  {
   "cell_type": "code",
   "execution_count": 27,
   "metadata": {},
   "outputs": [
    {
     "name": "stdout",
     "output_type": "stream",
     "text": [
      "shruti\n"
     ]
    }
   ],
   "source": [
    "print(player1.name)"
   ]
  },
  {
   "cell_type": "code",
   "execution_count": 28,
   "metadata": {},
   "outputs": [
    {
     "name": "stdout",
     "output_type": "stream",
     "text": [
      "26\n"
     ]
    }
   ],
   "source": [
    "print(player1.age)"
   ]
  },
  {
   "cell_type": "code",
   "execution_count": 29,
   "metadata": {},
   "outputs": [],
   "source": [
    "class playcharacter:\n",
    "    membership=True\n",
    "    def __init__(self,name,age): #attribute\n",
    "        self.name=name\n",
    "        self.age=age\n",
    "    def run (self):\n",
    "        print('run')"
   ]
  },
  {
   "cell_type": "code",
   "execution_count": 30,
   "metadata": {},
   "outputs": [
    {
     "ename": "NameError",
     "evalue": "name 'membership' is not defined",
     "output_type": "error",
     "traceback": [
      "\u001b[0;31m---------------------------------------------------------------------------\u001b[0m",
      "\u001b[0;31mNameError\u001b[0m                                 Traceback (most recent call last)",
      "Cell \u001b[0;32mIn[30], line 1\u001b[0m\n\u001b[0;32m----> 1\u001b[0m \u001b[38;5;28mprint\u001b[39m(\u001b[43mmembership\u001b[49m)\n",
      "\u001b[0;31mNameError\u001b[0m: name 'membership' is not defined"
     ]
    }
   ],
   "source": [
    "print(membership) #you canot directly call "
   ]
  },
  {
   "cell_type": "code",
   "execution_count": 31,
   "metadata": {},
   "outputs": [
    {
     "name": "stdout",
     "output_type": "stream",
     "text": [
      "True\n"
     ]
    }
   ],
   "source": [
    "print(playcharacter.membership)"
   ]
  },
  {
   "cell_type": "code",
   "execution_count": 33,
   "metadata": {},
   "outputs": [],
   "source": [
    "player1=playcharacter(\"shruti\",\"26\")"
   ]
  },
  {
   "cell_type": "code",
   "execution_count": 34,
   "metadata": {},
   "outputs": [
    {
     "name": "stdout",
     "output_type": "stream",
     "text": [
      "True\n"
     ]
    }
   ],
   "source": [
    "print(player1.membership)"
   ]
  },
  {
   "cell_type": "code",
   "execution_count": 35,
   "metadata": {},
   "outputs": [],
   "source": [
    "class playcharacter:\n",
    "    membership=True\n",
    "    def __init__(self,name,age): #attribute\n",
    "        if (playcharacter.membership):\n",
    "            self.name=name\n",
    "            self.age=age\n",
    "    def run (self):\n",
    "        print('run')"
   ]
  },
  {
   "cell_type": "code",
   "execution_count": 36,
   "metadata": {},
   "outputs": [],
   "source": [
    "player1=playcharacter(\"shruti\",\"26\")"
   ]
  },
  {
   "cell_type": "code",
   "execution_count": 37,
   "metadata": {},
   "outputs": [
    {
     "name": "stdout",
     "output_type": "stream",
     "text": [
      "shruti\n"
     ]
    }
   ],
   "source": [
    "print(player1.name)"
   ]
  },
  {
   "cell_type": "code",
   "execution_count": 55,
   "metadata": {},
   "outputs": [],
   "source": [
    "class playcharacter:\n",
    "    membership=True\n",
    "    def __init__(self,name,age): #attribute\n",
    "        if (playcharacter.membership):\n",
    "            self.name=name\n",
    "            self.age=age\n",
    "    def shout(self):\n",
    "        print(self.name)\n",
    "    def run (self):\n",
    "        print('run')"
   ]
  },
  {
   "cell_type": "code",
   "execution_count": 60,
   "metadata": {},
   "outputs": [],
   "source": [
    "player2=playcharacter(\"shruti\",\"26\")"
   ]
  },
  {
   "cell_type": "code",
   "execution_count": 54,
   "metadata": {},
   "outputs": [
    {
     "name": "stdout",
     "output_type": "stream",
     "text": [
      "shruti\n"
     ]
    }
   ],
   "source": [
    "print(player2.name)"
   ]
  },
  {
   "cell_type": "code",
   "execution_count": 61,
   "metadata": {},
   "outputs": [
    {
     "name": "stdout",
     "output_type": "stream",
     "text": [
      "shruti\n"
     ]
    }
   ],
   "source": [
    "(player2.shout())"
   ]
  },
  {
   "cell_type": "code",
   "execution_count": 75,
   "metadata": {},
   "outputs": [
    {
     "name": "stdout",
     "output_type": "stream",
     "text": [
      "Toyota Camry\n",
      "Honda Civic\n"
     ]
    }
   ],
   "source": [
    "class Car:\n",
    "    pass\n",
    "\n",
    "# Create instances of the Car class\n",
    "car1 = Car()\n",
    "car2 = Car()\n",
    "\n",
    "# Assign attributes directly to each instance\n",
    "car1.make = \"Toyota\"\n",
    "car1.model = \"Camry\"\n",
    "car2.make = \"Honda\"\n",
    "car2.model = \"Civic\"\n",
    "\n",
    "# Print the attributes of each instance\n",
    "print(car1.make, car1.model)  # Output: Toyota Camry\n",
    "print(car2.make, car2.model)  # Output: Honda Civic\n"
   ]
  },
  {
   "cell_type": "code",
   "execution_count": 76,
   "metadata": {},
   "outputs": [],
   "source": [
    "###__init__"
   ]
  },
  {
   "cell_type": "code",
   "execution_count": 79,
   "metadata": {},
   "outputs": [],
   "source": [
    "class student:\n",
    "    def __init__(self):\n",
    "        print( \"bad girl\")"
   ]
  },
  {
   "cell_type": "code",
   "execution_count": 80,
   "metadata": {},
   "outputs": [
    {
     "name": "stdout",
     "output_type": "stream",
     "text": [
      "bad girl\n"
     ]
    }
   ],
   "source": [
    "object1=student()  #that means init will automatically pass the value in object1"
   ]
  },
  {
   "cell_type": "code",
   "execution_count": 8,
   "metadata": {},
   "outputs": [],
   "source": [
    "class classname:\n",
    "    def __init__(self,age,name):\n",
    "        self.age=age\n",
    "        self.name=name"
   ]
  },
  {
   "cell_type": "code",
   "execution_count": 10,
   "metadata": {},
   "outputs": [],
   "source": [
    "p1=classname(\"shruti\",34)\n"
   ]
  },
  {
   "cell_type": "code",
   "execution_count": 11,
   "metadata": {},
   "outputs": [
    {
     "name": "stdout",
     "output_type": "stream",
     "text": [
      "34\n"
     ]
    }
   ],
   "source": [
    "print(p1.name)"
   ]
  },
  {
   "cell_type": "code",
   "execution_count": 13,
   "metadata": {},
   "outputs": [
    {
     "name": "stdout",
     "output_type": "stream",
     "text": [
      "shruti\n"
     ]
    }
   ],
   "source": [
    "print(p1.age)"
   ]
  },
  {
   "cell_type": "markdown",
   "metadata": {},
   "source": [
    "Note: The __init__() function is called automatically every time the class is being used to create a new object"
   ]
  },
  {
   "cell_type": "markdown",
   "metadata": {},
   "source": [
    "Inheritance allows us to define a class that inherits all the methods and properties from another class.\n",
    "\n",
    "Parent class is the class being inherited from, also called base class.\n",
    "\n",
    "Child class is the class that inherits from another class, also called derived class.\n",
    "\n"
   ]
  },
  {
   "cell_type": "code",
   "execution_count": 15,
   "metadata": {},
   "outputs": [
    {
     "name": "stdout",
     "output_type": "stream",
     "text": [
      "Name: Mountain Bike, Gears: 11 \n"
     ]
    }
   ],
   "source": [
    "# define a class\n",
    "class Bike:\n",
    "    name = \"\"\n",
    "    gear = 0\n",
    "\n",
    "# create object of class\n",
    "bike1 = Bike()\n",
    "\n",
    "# access attributes and assign new values\n",
    "bike1.gear = 11\n",
    "bike1.name = \"Mountain Bike\"\n",
    "\n",
    "print(f\"Name: {bike1.name}, Gears: {bike1.gear} \")"
   ]
  },
  {
   "cell_type": "code",
   "execution_count": 16,
   "metadata": {},
   "outputs": [
    {
     "name": "stdout",
     "output_type": "stream",
     "text": [
      "Area of Room = 1309.0\n"
     ]
    }
   ],
   "source": [
    "\n",
    "# create a class\n",
    "class Room:\n",
    "    length = 0.0\n",
    "    breadth = 0.0\n",
    "    \n",
    "    # method to calculate area\n",
    "    def calculate_area(self):\n",
    "        print(\"Area of Room =\", self.length * self.breadth)\n",
    "\n",
    "# create object of Room class\n",
    "study_room = Room()\n",
    "\n",
    "# assign values to all the properties \n",
    "study_room.length = 42.5\n",
    "study_room.breadth = 30.8\n",
    "\n",
    "# access method inside class\n",
    "study_room.calculate_area()"
   ]
  },
  {
   "cell_type": "code",
   "execution_count": 17,
   "metadata": {},
   "outputs": [
    {
     "name": "stdout",
     "output_type": "stream",
     "text": [
      "I can eat\n",
      "My name is  Rohu\n"
     ]
    }
   ],
   "source": [
    "class Animal:\n",
    "\n",
    "    # attribute and method of the parent class\n",
    "    name = \"\"\n",
    "    \n",
    "    def eat(self):\n",
    "        print(\"I can eat\")\n",
    "\n",
    "# inherit from Animal\n",
    "class Dog(Animal):\n",
    "\n",
    "    # new method in subclass\n",
    "    def display(self):\n",
    "        # access name attribute of superclass using self\n",
    "        print(\"My name is \", self.name)\n",
    "\n",
    "# create an object of the subclass\n",
    "labrador = Dog()\n",
    "\n",
    "# access superclass attribute and method \n",
    "labrador.name = \"Rohu\"\n",
    "labrador.eat()\n",
    "\n",
    "# call subclass method \n",
    "labrador.display()"
   ]
  },
  {
   "cell_type": "code",
   "execution_count": 18,
   "metadata": {},
   "outputs": [
    {
     "name": "stdout",
     "output_type": "stream",
     "text": [
      "I like to eat bones\n"
     ]
    }
   ],
   "source": [
    "class Animal:\n",
    "\n",
    "    # attributes and method of the parent class\n",
    "    name = \"\"\n",
    "    \n",
    "    def eat(self):\n",
    "        print(\"I can eat\")\n",
    "\n",
    "# inherit from Animal\n",
    "class Dog(Animal):\n",
    "\n",
    "    # override eat() method\n",
    "    def eat(self):\n",
    "        print(\"I like to eat bones\")\n",
    "\n",
    "# create an object of the subclass\n",
    "labrador = Dog()\n",
    "\n",
    "# call the eat() method on the labrador object\n",
    "labrador.eat()"
   ]
  },
  {
   "cell_type": "code",
   "execution_count": null,
   "metadata": {},
   "outputs": [],
   "source": []
  }
 ],
 "metadata": {
  "kernelspec": {
   "display_name": "Python 3",
   "language": "python",
   "name": "python3"
  },
  "language_info": {
   "codemirror_mode": {
    "name": "ipython",
    "version": 3
   },
   "file_extension": ".py",
   "mimetype": "text/x-python",
   "name": "python",
   "nbconvert_exporter": "python",
   "pygments_lexer": "ipython3",
   "version": "3.13.1"
  }
 },
 "nbformat": 4,
 "nbformat_minor": 2
}
