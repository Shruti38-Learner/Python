{
  "nbformat": 4,
  "nbformat_minor": 0,
  "metadata": {
    "colab": {
      "provenance": [],
      "authorship_tag": "ABX9TyN1yOimgr2Vl9g3fQEG/990",
      "include_colab_link": true
    },
    "kernelspec": {
      "name": "python3",
      "display_name": "Python 3"
    },
    "language_info": {
      "name": "python"
    }
  },
  "cells": [
    {
      "cell_type": "markdown",
      "metadata": {
        "id": "view-in-github",
        "colab_type": "text"
      },
      "source": [
        "<a href=\"https://colab.research.google.com/github/Shruti38-Learner/Python/blob/main/scope.ipynb\" target=\"_parent\"><img src=\"https://colab.research.google.com/assets/colab-badge.svg\" alt=\"Open In Colab\"/></a>"
      ]
    },
    {
      "cell_type": "code",
      "execution_count": 1,
      "metadata": {
        "id": "9BsHNFWDWGdH"
      },
      "outputs": [],
      "source": [
        "a=1\n",
        "def conf():\n",
        "  a=5\n",
        "  return a\n",
        ""
      ]
    },
    {
      "cell_type": "code",
      "source": [
        "print(conf())\n",
        "print(a)"
      ],
      "metadata": {
        "colab": {
          "base_uri": "https://localhost:8080/"
        },
        "id": "RFdISWPWWNfg",
        "outputId": "e8fd91ad-b19f-4219-a63a-bdbef072bf15"
      },
      "execution_count": 3,
      "outputs": [
        {
          "output_type": "stream",
          "name": "stdout",
          "text": [
            "5\n",
            "1\n"
          ]
        }
      ]
    },
    {
      "cell_type": "code",
      "source": [
        "a=1\n",
        "def parent():\n",
        "  a=10\n",
        "  def conf():\n",
        "    a=5\n",
        "    return sum\n",
        "  return conf()"
      ],
      "metadata": {
        "id": "bQ4JuptyWQbE"
      },
      "execution_count": 5,
      "outputs": []
    },
    {
      "cell_type": "code",
      "source": [
        "print(parent())"
      ],
      "metadata": {
        "colab": {
          "base_uri": "https://localhost:8080/"
        },
        "id": "BtZdLPozXQH6",
        "outputId": "1e8a2cdf-ff0e-4b6e-e0f5-1485d58607cf"
      },
      "execution_count": 10,
      "outputs": [
        {
          "output_type": "stream",
          "name": "stdout",
          "text": [
            "5\n"
          ]
        }
      ]
    },
    {
      "cell_type": "code",
      "source": [
        "print(conf())"
      ],
      "metadata": {
        "colab": {
          "base_uri": "https://localhost:8080/"
        },
        "id": "Cai4WAo7XX-1",
        "outputId": "c20e8c20-7052-4bcb-8354-f5d6f054ae33"
      },
      "execution_count": 11,
      "outputs": [
        {
          "output_type": "stream",
          "name": "stdout",
          "text": [
            "5\n"
          ]
        }
      ]
    },
    {
      "cell_type": "code",
      "source": [
        "print(a)"
      ],
      "metadata": {
        "colab": {
          "base_uri": "https://localhost:8080/"
        },
        "id": "jnrJZ-JxXaL7",
        "outputId": "691684c6-a6f5-45a7-f51e-bb8d15277ed9"
      },
      "execution_count": 12,
      "outputs": [
        {
          "output_type": "stream",
          "name": "stdout",
          "text": [
            "1\n"
          ]
        }
      ]
    },
    {
      "cell_type": "code",
      "source": [
        "#start with local\n",
        "#start with parent\n",
        "#start with global\n",
        "#built in function"
      ],
      "metadata": {
        "id": "M_JcIh4eXbch"
      },
      "execution_count": 13,
      "outputs": []
    },
    {
      "cell_type": "code",
      "source": [
        "total=100\n",
        "def som_func():\n",
        "  total=500\n",
        "  return total\n",
        "  #total value will be changed inside function\n"
      ],
      "metadata": {
        "id": "u_tToLseX03Q"
      },
      "execution_count": 14,
      "outputs": []
    },
    {
      "cell_type": "code",
      "source": [
        "som_func()"
      ],
      "metadata": {
        "colab": {
          "base_uri": "https://localhost:8080/"
        },
        "id": "u58rCsqaYskU",
        "outputId": "b8ed029b-c5ca-4917-c0c4-7ed353e25cda"
      },
      "execution_count": 15,
      "outputs": [
        {
          "output_type": "execute_result",
          "data": {
            "text/plain": [
              "500"
            ]
          },
          "metadata": {},
          "execution_count": 15
        }
      ]
    },
    {
      "cell_type": "code",
      "source": [
        "print(total)"
      ],
      "metadata": {
        "colab": {
          "base_uri": "https://localhost:8080/"
        },
        "id": "ot-Y0wd2Y3-m",
        "outputId": "0298152f-879b-46dc-ba45-709d959f5a8b"
      },
      "execution_count": 16,
      "outputs": [
        {
          "output_type": "stream",
          "name": "stdout",
          "text": [
            "100\n"
          ]
        }
      ]
    },
    {
      "cell_type": "code",
      "source": [
        "total=100\n",
        "if True:\n",
        "  print(total)"
      ],
      "metadata": {
        "colab": {
          "base_uri": "https://localhost:8080/"
        },
        "id": "iW5sxtmzY8D5",
        "outputId": "90291487-fa71-4b8d-e79d-495a20dfe2fb"
      },
      "execution_count": 18,
      "outputs": [
        {
          "output_type": "stream",
          "name": "stdout",
          "text": [
            "100\n"
          ]
        }
      ]
    },
    {
      "cell_type": "code",
      "source": [
        "total =0\n",
        "def count(total):\n",
        "  global total\n",
        "  total=total+1\n",
        "  return total.   #we have to not use global total\n"
      ],
      "metadata": {
        "colab": {
          "base_uri": "https://localhost:8080/",
          "height": 108
        },
        "id": "Eq1QTP3DZJ5Y",
        "outputId": "8cc54feb-9a9a-4e56-8e13-42a74e017d5d"
      },
      "execution_count": 8,
      "outputs": [
        {
          "output_type": "error",
          "ename": "SyntaxError",
          "evalue": "name 'total' is parameter and global (<ipython-input-8-4764b788424a>, line 3)",
          "traceback": [
            "\u001b[0;36m  File \u001b[0;32m\"<ipython-input-8-4764b788424a>\"\u001b[0;36m, line \u001b[0;32m3\u001b[0m\n\u001b[0;31m    global total\u001b[0m\n\u001b[0m    ^\u001b[0m\n\u001b[0;31mSyntaxError\u001b[0m\u001b[0;31m:\u001b[0m name 'total' is parameter and global\n"
          ]
        }
      ]
    },
    {
      "cell_type": "code",
      "source": [
        "count()"
      ],
      "metadata": {
        "colab": {
          "base_uri": "https://localhost:8080/"
        },
        "id": "z6iz_HxdSRgh",
        "outputId": "8fb580d3-9384-4ec9-95af-e191971e58ce"
      },
      "execution_count": 4,
      "outputs": [
        {
          "output_type": "execute_result",
          "data": {
            "text/plain": [
              "1"
            ]
          },
          "metadata": {},
          "execution_count": 4
        }
      ]
    },
    {
      "cell_type": "code",
      "source": [
        "print(count(count(count(count(total)))))"
      ],
      "metadata": {
        "colab": {
          "base_uri": "https://localhost:8080/",
          "height": 144
        },
        "id": "jkrc1bCJSZ8o",
        "outputId": "12b15c02-6c83-4bf9-9451-1d794ad59620"
      },
      "execution_count": 7,
      "outputs": [
        {
          "output_type": "error",
          "ename": "TypeError",
          "evalue": "count() takes 0 positional arguments but 1 was given",
          "traceback": [
            "\u001b[0;31m---------------------------------------------------------------------------\u001b[0m",
            "\u001b[0;31mTypeError\u001b[0m                                 Traceback (most recent call last)",
            "\u001b[0;32m<ipython-input-7-ecefb89e76a7>\u001b[0m in \u001b[0;36m<cell line: 1>\u001b[0;34m()\u001b[0m\n\u001b[0;32m----> 1\u001b[0;31m \u001b[0mprint\u001b[0m\u001b[0;34m(\u001b[0m\u001b[0mcount\u001b[0m\u001b[0;34m(\u001b[0m\u001b[0mcount\u001b[0m\u001b[0;34m(\u001b[0m\u001b[0mcount\u001b[0m\u001b[0;34m(\u001b[0m\u001b[0mcount\u001b[0m\u001b[0;34m)\u001b[0m\u001b[0;34m)\u001b[0m\u001b[0;34m)\u001b[0m\u001b[0;34m)\u001b[0m\u001b[0;34m\u001b[0m\u001b[0;34m\u001b[0m\u001b[0m\n\u001b[0m",
            "\u001b[0;31mTypeError\u001b[0m: count() takes 0 positional arguments but 1 was given"
          ]
        }
      ]
    },
    {
      "cell_type": "code",
      "source": [
        "total =0\n",
        "def count(total):\n",
        "  total=total+1\n",
        "  return total   #we have to not use global total"
      ],
      "metadata": {
        "id": "mwP7WZc3TDTY"
      },
      "execution_count": 9,
      "outputs": []
    },
    {
      "cell_type": "code",
      "source": [
        "print(count(count(count(count(total)))))"
      ],
      "metadata": {
        "colab": {
          "base_uri": "https://localhost:8080/"
        },
        "id": "lf-mGAnZTb2W",
        "outputId": "238e6d94-153b-459a-cfa5-3c33fb92fcd4"
      },
      "execution_count": 10,
      "outputs": [
        {
          "output_type": "stream",
          "name": "stdout",
          "text": [
            "4\n"
          ]
        }
      ]
    },
    {
      "cell_type": "code",
      "source": [
        "def outer_function():\n",
        "    x = 10  # Enclosing scope variable\n",
        "\n",
        "    def inner_function():\n",
        "        nonlocal x  # Refers to `x` in the enclosing scope\n",
        "        x += 1  # Modify the variable in the enclosing scope\n",
        "        print(\"Inner x:\", x)\n",
        "\n",
        "    inner_function()\n",
        "    print(\"Outer x:\", x)\n",
        "\n",
        "outer_function()\n"
      ],
      "metadata": {
        "colab": {
          "base_uri": "https://localhost:8080/"
        },
        "id": "NDkutUyvTdeO",
        "outputId": "ddede462-3025-4fc4-d092-141501ea3346"
      },
      "execution_count": 11,
      "outputs": [
        {
          "output_type": "stream",
          "name": "stdout",
          "text": [
            "Inner x: 11\n",
            "Outer x: 11\n"
          ]
        }
      ]
    },
    {
      "cell_type": "code",
      "source": [
        "def outer_function():\n",
        "    x = 10  # Enclosing scope variable\n",
        "\n",
        "    def inner_function():\n",
        "        #nonlocal x  # Refers to `x` in the enclosing scope\n",
        "        x=12\n",
        "        x += 1  # Modify the variable in the enclosing scope\n",
        "        print(\"Inner x:\", x)\n",
        "\n",
        "    inner_function()\n",
        "    print(\"Outer x:\", x)\n",
        "\n",
        "outer_function()\n"
      ],
      "metadata": {
        "colab": {
          "base_uri": "https://localhost:8080/"
        },
        "id": "iI45l5wQwYOQ",
        "outputId": "3b038f9b-5749-444c-f81b-2f863fa69616"
      },
      "execution_count": 14,
      "outputs": [
        {
          "output_type": "stream",
          "name": "stdout",
          "text": [
            "Inner x: 13\n",
            "Outer x: 10\n"
          ]
        }
      ]
    },
    {
      "cell_type": "code",
      "source": [],
      "metadata": {
        "id": "0Rt1495_wj3O"
      },
      "execution_count": null,
      "outputs": []
    }
  ]
}